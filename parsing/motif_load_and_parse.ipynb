{
 "cells": [
  {
   "cell_type": "markdown",
   "metadata": {},
   "source": [
    "# Motif specification\n",
    "Each motif string contains a pdb id, specification of motif amino acid chain and residue indexes, and specification of which of these residues may be redesigned.\n",
    "\n",
    "# Example motifs\n",
    "* \"7F7P,B32-46;A7-21,B32-46;A7-21\" --> two segments of motif. Residues 32 through 46 on chain B and residues 7 through 21 on chain A.  All positions may be redesigned.\n",
    "\n",
    "* \"4xoj,A55;A99;A190-192,A191\" --> three segments of motif.  All on chain A.  Residues 55, 99, 190, 191, and 192.  Only residue 191 may be redesigned.\n",
    "\n",
    "# Outputs\n",
    "The output of the processing is a pdb file with the coordinates of motif residues.\n",
    "* Each segment of the motif is labeled as its own chain, in order A, B, C, etc.\n",
    "* For that may be redesigned, all atoms other than N, CA, C and O are removed and the residue type is set to UNK.\n",
    "* The header of the motif includes a contig specifying how the motif is placed in the native scaffold.\n",
    "  * Example:  consider \"4xoj,A55;A99;A190-192,A191\" the header contig should be \"38;A;43;B;90;C;46\"\n",
    "  * 4xoj has 223 resolved residues (indexed as 16 through 238), the 38 corresponds to the 38 residues 16-54 before residue 55 (segment A), the 43 corresponds to the residues between residue 55 and 99 and so on. The final 46 indicates that the native structure terminates with 46 additional residues that are not part of the motif."
   ]
  },
  {
   "cell_type": "code",
   "execution_count": 1,
   "metadata": {},
   "outputs": [],
   "source": [
    "import os\n",
    "import urllib.request\n",
    "import Bio\n",
    "import numpy as np\n",
    "from Bio.PDB import PDBParser, Select\n",
    "motif_chain_id_order = \"ABCDEFGHIJKLMNOPQRSTUVWXYZ\""
   ]
  },
  {
   "cell_type": "code",
   "execution_count": 2,
   "metadata": {},
   "outputs": [],
   "source": [
    "def parse_contig_string(contig_string):\n",
    "    contig_segments = []\n",
    "    for motif_segment in contig_string.split(\";\"):\n",
    "        segment_dict ={\"chain\":motif_segment[0]}\n",
    "        if \"-\" in motif_segment:\n",
    "            segment_dict[\"start\"], segment_dict[\"end\"] = motif_segment[1:].split(\"-\")\n",
    "\n",
    "        else:\n",
    "            segment_dict[\"start\"] = segment_dict[\"end\"] = motif_segment[1:]\n",
    "        contig_segments.append(segment_dict)\n",
    "    return contig_segments\n",
    "\n",
    "def check_if_in_segment(redesign_segments, chain, residue):\n",
    "    for segment in redesign_segments:\n",
    "        if segment[\"chain\"] == chain:\n",
    "            if int(segment[\"start\"]) <= residue <= int(segment[\"end\"]):\n",
    "                return True\n",
    "    return False\n",
    "\n",
    "class AltLocSelect(Select):\n",
    "    def accept_atom(self, atom):\n",
    "        # Accept atoms with altloc 'A' or no altloc, and if occupancy is 1.0\n",
    "        return atom.altloc in ('A', ' ') and atom.occupancy == 1.0\n",
    "\n",
    "def remove_alt_conformations(structure):\n",
    "    # Remove atoms with alternate location identifiers other than 'A'\n",
    "    for model in structure:\n",
    "        for chain in model:\n",
    "            for residue in chain:\n",
    "                # Create a list of atoms to remove\n",
    "                atoms_to_remove = []\n",
    "                for atom in residue:\n",
    "                    #if atom.altloc not in ('A', ' '):\n",
    "                    if atom.get_full_id()[4][1] not in ('A', ' '):\n",
    "                        atoms_to_remove.append(atom)\n",
    "                    # Set altloc to ' ' for all atoms, and occupancy to 1.0\n",
    "                    atom.set_altloc(' ')\n",
    "                    atom.set_occupancy(1.0)\n",
    "                if atoms_to_remove:\n",
    "                    for atom in atoms_to_remove:\n",
    "                        # Before removing, check that the atom is redundant and can be removed.\n",
    "                        # Specifically, check that the atom name (e.g. CA) is the same as another atom in the residue\n",
    "                        atom_name = atom.get_name()\n",
    "                        if len([a for a in residue if a.get_name() == atom_name]) > 1:\n",
    "                            residue.detach_child(atom.id)\n",
    "    return structure"
   ]
  },
  {
   "cell_type": "code",
   "execution_count": 3,
   "metadata": {},
   "outputs": [],
   "source": [
    "# Fetch the PDB file from RCSB and parse it with BioPython\n",
    "def load_pdb(pdb_id, native_pdb_dir=\"./native_pdbs/\"):\n",
    "    pdb_fn = f\"{native_pdb_dir}{pdb_id}.pdb\" # File name to save the PDB file to\n",
    "    if pdb_id != \"1qy3\":\n",
    "        urllib.request.urlretrieve(\n",
    "            f'http://files.rcsb.org/download/{pdb_id}.pdb',\n",
    "            f\"{native_pdb_dir}{pdb_id}.pdb\")\n",
    "    else:\n",
    "        # If \"1qy3\" this is the pre-cyclized GFP, and we must used a hacked \n",
    "        # file with an A96R mutation (as described in the ESM3 paper).\n",
    "        pdb_fn = \"../test_cases/ESM3/1qy3_A96R.pdb\"\n",
    "\n",
    "    # Parse the PDB file and extract the motif segments.\n",
    "    # Then save a new pdb file with each segment concatenated, with each segment in a separate chain.\n",
    "    parser = PDBParser()\n",
    "    structure = parser.get_structure(pdb_id, pdb_fn)\n",
    "    return structure\n",
    "\n",
    "\n",
    "def parse_motif_into_new_structure(structure, motif_segments, redesign_segments):\n",
    "    # Create a new structure object to hold the motif segments\n",
    "    motif_structure = Bio.PDB.Structure.Structure(\"motif\")\n",
    "    motif_structure.add(Bio.PDB.Model.Model(0))\n",
    "\n",
    "    # Iterate through segments creating a new chain for each segment \n",
    "    for i, segment in enumerate(motif_segments):\n",
    "        motif_structure[0].add(Bio.PDB.Chain.Chain(motif_chain_id_order[i]))\n",
    "\n",
    "        # Iterate through residues in the segment and add them to the new chain.\n",
    "        for residue in structure[0][segment[\"chain\"]]:\n",
    "            if int(segment[\"start\"]) <= residue.id[1] <= int(segment[\"end\"]):\n",
    "\n",
    "                # Remove all hydrogen atoms.\n",
    "                for atom in list(residue):\n",
    "                    if atom.element == \"H\":\n",
    "                        residue.detach_child(atom.id)\n",
    "\n",
    "                # Check if the residue is in a redesign segment.\n",
    "                # If so, remove atoms except the backbone and set type to UNK.\n",
    "                if check_if_in_segment(redesign_segments, segment[\"chain\"], residue.id[1]):\n",
    "                    for atom in list(residue):\n",
    "                        if atom.id not in [\"N\", \"CA\", \"C\", \"O\"]:\n",
    "                            residue.detach_child(atom.id)\n",
    "                    residue.resname = \"UNK\"\n",
    "                \n",
    "                # Reset residue index to start from 1.\n",
    "                residue = residue.copy()\n",
    "                residue.id = (\" \", residue.id[1]-int(segment[\"start\"])+1, \" \")\n",
    "\n",
    "                # Add the residue to the new chain.\n",
    "                motif_structure[0][motif_chain_id_order[i]].add(residue)\n",
    "\n",
    "    return motif_structure\n",
    "\n",
    "\n",
    "# Center the motif structure on the origin.\n",
    "# Because of some BioPython weirdness, we have to do this manually,\n",
    "# by reading the saved pdb file and calculating the center of mass,\n",
    "# then translating the structure to the origin, and saving it again.\n",
    "def center_pdb(motif_fn):\n",
    "    # Load the motif structure from the saved pdb file.\n",
    "    parser = PDBParser()\n",
    "    motif_structure = parser.get_structure(\"motif\", motif_fn)\n",
    "\n",
    "\n",
    "    ### Translate the motif structure to the origin.\n",
    "    # Get the center of mass of the motif structure.\n",
    "    com = np.array([0., 0., 0.])\n",
    "    count = 0\n",
    "    for atom in motif_structure.get_atoms():\n",
    "        atom_vec = atom.get_vector().get_array()\n",
    "        com += atom_vec\n",
    "        count += 1\n",
    "    com = com/count\n",
    "\n",
    "    # Translate the motif structure to the origin.\n",
    "    for atom in motif_structure.get_atoms():\n",
    "        atom.set_coord(atom.get_coord() - com)\n",
    "\n",
    "    # Save the centered motif structure, overwriting the original file.\n",
    "    io = Bio.PDB.PDBIO()\n",
    "    io.set_structure(motif_structure)\n",
    "    io.save(motif_fn)"
   ]
  },
  {
   "cell_type": "code",
   "execution_count": 4,
   "metadata": {},
   "outputs": [],
   "source": [
    "def build_contig_string(structure, motif_segments):\n",
    "    # Write a contig string describing the placement of the motif in the original structure, restricting to resolved residues.\n",
    "\n",
    "    # First find the first resolved residue in the structure.\n",
    "    first_residue = None\n",
    "    motif_chain = motif_segments[0][\"chain\"]\n",
    "    for residue in structure[0][motif_chain]:\n",
    "        if residue.id[1] != \" \":\n",
    "            first_residue = residue.id[1]\n",
    "            break\n",
    "\n",
    "    # Iterate through the motif segments and compute the number of residues between them.\n",
    "    contig_string = \"\"\n",
    "    for i, segment in enumerate(motif_segments):\n",
    "        chain = motif_chain_id_order[i]\n",
    "        if i == 0:\n",
    "            contig_string += f\"{int(segment['start']) - first_residue};{chain};\"\n",
    "        else:\n",
    "            contig_string += f\"{int(segment['start']) - int(motif_segments[i-1]['end']) - 1};{chain};\"\n",
    "        if i == len(motif_segments) - 1:\n",
    "            break\n",
    "\n",
    "    # get index of last residue in the structure, excluding heteroatoms\n",
    "    chain = segment[\"chain\"]\n",
    "    last_AA_idx = 0\n",
    "    for residue in structure[0][chain]:\n",
    "        if residue.id[0] == \" \": # check that it is not a heteroatom\n",
    "            last_AA_idx = residue.id[1]\n",
    "\n",
    "    contig_string += f\"{last_AA_idx - int(segment['end'])}\"\n",
    "    return contig_string\n",
    "\n",
    "\n",
    "def save_motif_pdb(motif_string, motif_pdb_dir=\"./motif_pdbs/\", native_pdb_dir=\"./native_pdbs/\", idx=None):\n",
    "    pdb_id, motif_residues, redesign_residues, total_length = motif_string.split(\",\")\n",
    "\n",
    "    # Load structure and parse motif into new structure\n",
    "    structure = load_pdb(pdb_id, native_pdb_dir=native_pdb_dir)\n",
    "\n",
    "    # Some pdbs have alternate conformations, which we remove.\n",
    "    structure = remove_alt_conformations(structure)\n",
    "\n",
    "    motif_segments = parse_contig_string(motif_residues)\n",
    "    redesign_segments = parse_contig_string(redesign_residues) if redesign_residues else []\n",
    "    motif_structure = parse_motif_into_new_structure(structure, motif_segments, redesign_segments)\n",
    "\n",
    "    # Save the new structure to a PDB file with a header that includes the place of the motif in the original structure.\n",
    "    contig_string = build_contig_string(structure, motif_segments)\n",
    "    header_string = f\"REMARK 1 Original PDB ID: {pdb_id}\\n\"\n",
    "    header_string += f\"REMARK 2 Contig: {contig_string}\\n\"\n",
    "    header_string += f\"REMARK 3 Total Length: {total_length}\\n\"\n",
    "\n",
    "    motif_fn = f\"{motif_pdb_dir}{pdb_id}.pdb\"\n",
    "    if idx is not None:\n",
    "        motif_fn = f\"{motif_pdb_dir}{idx:02d}_{pdb_id}.pdb\"\n",
    "        print(\"motif_fn:\", motif_fn)\n",
    "    io = Bio.PDB.PDBIO()\n",
    "    io.set_structure(motif_structure)\n",
    "    io.save(motif_fn , AltLocSelect(), write_end=True)\n",
    "\n",
    "    # Center the motif structure on the origin.\n",
    "    center_pdb(motif_fn)\n",
    "    \n",
    "    # Prepend header_string to the new PDB file by copying the file and writing the header first.\n",
    "    with open(motif_fn, \"r\") as f: file_string = f.read()\n",
    "    with open(motif_fn, \"w\") as f: f.write(header_string + file_string)\n"
   ]
  },
  {
   "cell_type": "code",
   "execution_count": 5,
   "metadata": {},
   "outputs": [
    {
     "name": "stdout",
     "output_type": "stream",
     "text": [
      "00 1BCF,A18-25;A47-54;A92-99;A123-130,A19-25;A47-50;A52-53;A92-93;A95-99;A123-126;A128-129,125\n"
     ]
    },
    {
     "name": "stderr",
     "output_type": "stream",
     "text": [
      "/Users/briantrippe/opt/anaconda3/lib/python3.9/site-packages/Bio/PDB/StructureBuilder.py:89: PDBConstructionWarning: WARNING: Chain A is discontinuous at line 17010.\n",
      "  warnings.warn(\n",
      "/Users/briantrippe/opt/anaconda3/lib/python3.9/site-packages/Bio/PDB/StructureBuilder.py:89: PDBConstructionWarning: WARNING: Chain B is discontinuous at line 17055.\n",
      "  warnings.warn(\n",
      "/Users/briantrippe/opt/anaconda3/lib/python3.9/site-packages/Bio/PDB/StructureBuilder.py:89: PDBConstructionWarning: WARNING: Chain C is discontinuous at line 17057.\n",
      "  warnings.warn(\n",
      "/Users/briantrippe/opt/anaconda3/lib/python3.9/site-packages/Bio/PDB/StructureBuilder.py:89: PDBConstructionWarning: WARNING: Chain D is discontinuous at line 17102.\n",
      "  warnings.warn(\n",
      "/Users/briantrippe/opt/anaconda3/lib/python3.9/site-packages/Bio/PDB/StructureBuilder.py:89: PDBConstructionWarning: WARNING: Chain E is discontinuous at line 17104.\n",
      "  warnings.warn(\n",
      "/Users/briantrippe/opt/anaconda3/lib/python3.9/site-packages/Bio/PDB/StructureBuilder.py:89: PDBConstructionWarning: WARNING: Chain F is discontinuous at line 17149.\n",
      "  warnings.warn(\n",
      "/Users/briantrippe/opt/anaconda3/lib/python3.9/site-packages/Bio/PDB/StructureBuilder.py:89: PDBConstructionWarning: WARNING: Chain G is discontinuous at line 17151.\n",
      "  warnings.warn(\n",
      "/Users/briantrippe/opt/anaconda3/lib/python3.9/site-packages/Bio/PDB/StructureBuilder.py:89: PDBConstructionWarning: WARNING: Chain H is discontinuous at line 17196.\n",
      "  warnings.warn(\n",
      "/Users/briantrippe/opt/anaconda3/lib/python3.9/site-packages/Bio/PDB/StructureBuilder.py:89: PDBConstructionWarning: WARNING: Chain I is discontinuous at line 17198.\n",
      "  warnings.warn(\n",
      "/Users/briantrippe/opt/anaconda3/lib/python3.9/site-packages/Bio/PDB/StructureBuilder.py:89: PDBConstructionWarning: WARNING: Chain J is discontinuous at line 17243.\n",
      "  warnings.warn(\n",
      "/Users/briantrippe/opt/anaconda3/lib/python3.9/site-packages/Bio/PDB/StructureBuilder.py:89: PDBConstructionWarning: WARNING: Chain K is discontinuous at line 17245.\n",
      "  warnings.warn(\n",
      "/Users/briantrippe/opt/anaconda3/lib/python3.9/site-packages/Bio/PDB/StructureBuilder.py:89: PDBConstructionWarning: WARNING: Chain L is discontinuous at line 17290.\n",
      "  warnings.warn(\n"
     ]
    },
    {
     "name": "stdout",
     "output_type": "stream",
     "text": [
      "motif_fn: ../motif_pdbs/00_1BCF.pdb\n",
      "01 5TPN,A163-181,A163-168;A170-171;A179,75\n",
      "motif_fn: ../motif_pdbs/01_5TPN.pdb\n",
      "02 5IUS,A63-82;A119-140,A63;A65;A67;A69;A71-72;A76;A79-80;A82;A119-123;A125;A127;A129-130;A133;A135;A137-138;A140,100\n"
     ]
    },
    {
     "name": "stderr",
     "output_type": "stream",
     "text": [
      "/Users/briantrippe/opt/anaconda3/lib/python3.9/site-packages/Bio/PDB/StructureBuilder.py:89: PDBConstructionWarning: WARNING: Chain A is discontinuous at line 11147.\n",
      "  warnings.warn(\n",
      "/Users/briantrippe/opt/anaconda3/lib/python3.9/site-packages/Bio/PDB/StructureBuilder.py:89: PDBConstructionWarning: WARNING: Chain B is discontinuous at line 11154.\n",
      "  warnings.warn(\n",
      "/Users/briantrippe/opt/anaconda3/lib/python3.9/site-packages/Bio/PDB/StructureBuilder.py:89: PDBConstructionWarning: WARNING: Chain C is discontinuous at line 11160.\n",
      "  warnings.warn(\n",
      "/Users/briantrippe/opt/anaconda3/lib/python3.9/site-packages/Bio/PDB/StructureBuilder.py:89: PDBConstructionWarning: WARNING: Chain D is discontinuous at line 11173.\n",
      "  warnings.warn(\n"
     ]
    },
    {
     "name": "stdout",
     "output_type": "stream",
     "text": [
      "motif_fn: ../motif_pdbs/02_5IUS.pdb\n",
      "03 3IXT,P254-277,P255;P258-259;P262-263;P268;P271-272;P275-276,75\n"
     ]
    },
    {
     "name": "stderr",
     "output_type": "stream",
     "text": [
      "/Users/briantrippe/opt/anaconda3/lib/python3.9/site-packages/Bio/PDB/StructureBuilder.py:89: PDBConstructionWarning: WARNING: Chain P is discontinuous at line 14488.\n",
      "  warnings.warn(\n",
      "/Users/briantrippe/opt/anaconda3/lib/python3.9/site-packages/Bio/PDB/StructureBuilder.py:89: PDBConstructionWarning: WARNING: Chain A is discontinuous at line 14492.\n",
      "  warnings.warn(\n",
      "/Users/briantrippe/opt/anaconda3/lib/python3.9/site-packages/Bio/PDB/StructureBuilder.py:89: PDBConstructionWarning: WARNING: Chain C is discontinuous at line 14496.\n",
      "  warnings.warn(\n",
      "/Users/briantrippe/opt/anaconda3/lib/python3.9/site-packages/Bio/PDB/StructureBuilder.py:89: PDBConstructionWarning: WARNING: Chain L is discontinuous at line 14500.\n",
      "  warnings.warn(\n",
      "/Users/briantrippe/opt/anaconda3/lib/python3.9/site-packages/Bio/PDB/StructureBuilder.py:89: PDBConstructionWarning: WARNING: Chain H is discontinuous at line 14536.\n",
      "  warnings.warn(\n",
      "/Users/briantrippe/opt/anaconda3/lib/python3.9/site-packages/Bio/PDB/StructureBuilder.py:89: PDBConstructionWarning: WARNING: Chain P is discontinuous at line 14576.\n",
      "  warnings.warn(\n",
      "/Users/briantrippe/opt/anaconda3/lib/python3.9/site-packages/Bio/PDB/StructureBuilder.py:89: PDBConstructionWarning: WARNING: Chain B is discontinuous at line 14579.\n",
      "  warnings.warn(\n",
      "/Users/briantrippe/opt/anaconda3/lib/python3.9/site-packages/Bio/PDB/StructureBuilder.py:89: PDBConstructionWarning: WARNING: Chain A is discontinuous at line 14609.\n",
      "  warnings.warn(\n",
      "/Users/briantrippe/opt/anaconda3/lib/python3.9/site-packages/Bio/PDB/StructureBuilder.py:89: PDBConstructionWarning: WARNING: Chain C is discontinuous at line 14649.\n",
      "  warnings.warn(\n"
     ]
    },
    {
     "name": "stdout",
     "output_type": "stream",
     "text": [
      "motif_fn: ../motif_pdbs/03_3IXT.pdb\n",
      "04 5YUI,A93-97;A118-120;A198-200,A93;A95;A97;A118;A120,75\n",
      "motif_fn: ../motif_pdbs/04_5YUI.pdb\n",
      "05 1YCR,B19-27,B20-22;B24-25,75\n",
      "motif_fn: ../motif_pdbs/05_1YCR.pdb\n",
      "06 2KL8,A1-7;A28-79,,100\n",
      "motif_fn: ../motif_pdbs/06_2KL8.pdb\n",
      "07 7MRX,B25-46,B25-46,75\n"
     ]
    },
    {
     "name": "stderr",
     "output_type": "stream",
     "text": [
      "/Users/briantrippe/opt/anaconda3/lib/python3.9/site-packages/Bio/PDB/StructureBuilder.py:89: PDBConstructionWarning: WARNING: Chain A is discontinuous at line 10632.\n",
      "  warnings.warn(\n",
      "/Users/briantrippe/opt/anaconda3/lib/python3.9/site-packages/Bio/PDB/StructureBuilder.py:89: PDBConstructionWarning: WARNING: Chain B is discontinuous at line 10739.\n",
      "  warnings.warn(\n",
      "/Users/briantrippe/opt/anaconda3/lib/python3.9/site-packages/Bio/PDB/StructureBuilder.py:89: PDBConstructionWarning: WARNING: Chain C is discontinuous at line 10808.\n",
      "  warnings.warn(\n",
      "/Users/briantrippe/opt/anaconda3/lib/python3.9/site-packages/Bio/PDB/StructureBuilder.py:89: PDBConstructionWarning: WARNING: Chain D is discontinuous at line 10912.\n",
      "  warnings.warn(\n",
      "/Users/briantrippe/opt/anaconda3/lib/python3.9/site-packages/Bio/PDB/StructureBuilder.py:89: PDBConstructionWarning: WARNING: Chain E is discontinuous at line 10946.\n",
      "  warnings.warn(\n",
      "/Users/briantrippe/opt/anaconda3/lib/python3.9/site-packages/Bio/PDB/StructureBuilder.py:89: PDBConstructionWarning: WARNING: Chain F is discontinuous at line 10987.\n",
      "  warnings.warn(\n"
     ]
    },
    {
     "name": "stdout",
     "output_type": "stream",
     "text": [
      "motif_fn: ../motif_pdbs/07_7MRX.pdb\n",
      "08 4JHW,F63-69;F196-212,F63;F69;F196;F198;F203;F211-212,125\n",
      "motif_fn: ../motif_pdbs/08_4JHW.pdb\n",
      "09 4ZYP,A422-436,A422-427;A430-431;A433-43,75\n",
      "motif_fn: ../motif_pdbs/09_4ZYP.pdb\n",
      "10 5WN9,A170-189,A170-175;A188-189,75\n"
     ]
    },
    {
     "name": "stderr",
     "output_type": "stream",
     "text": [
      "/Users/briantrippe/opt/anaconda3/lib/python3.9/site-packages/Bio/PDB/StructureBuilder.py:89: PDBConstructionWarning: WARNING: Chain H is discontinuous at line 6270.\n",
      "  warnings.warn(\n",
      "/Users/briantrippe/opt/anaconda3/lib/python3.9/site-packages/Bio/PDB/StructureBuilder.py:89: PDBConstructionWarning: WARNING: Chain A is discontinuous at line 6375.\n",
      "  warnings.warn(\n"
     ]
    },
    {
     "name": "stdout",
     "output_type": "stream",
     "text": [
      "motif_fn: ../motif_pdbs/10_5WN9.pdb\n",
      "11 5TRV,A45-65,A45-65,75\n",
      "motif_fn: ../motif_pdbs/11_5TRV.pdb\n",
      "12 6E6R,A23-35,A23-35,75\n",
      "motif_fn: ../motif_pdbs/12_6E6R.pdb\n",
      "13 6EXZ,A556-570,A556-570,100\n",
      "motif_fn: ../motif_pdbs/13_6EXZ.pdb\n",
      "14 7A8S,A41-55;A72-86,,100\n",
      "motif_fn: ../motif_pdbs/14_7A8S.pdb\n",
      "15 7AD5,A99-113,,125\n",
      "motif_fn: ../motif_pdbs/15_7AD5.pdb\n",
      "16 7AHO,A199-213,,125\n"
     ]
    },
    {
     "name": "stderr",
     "output_type": "stream",
     "text": [
      "/Users/briantrippe/opt/anaconda3/lib/python3.9/site-packages/Bio/PDB/StructureBuilder.py:89: PDBConstructionWarning: WARNING: Chain A is discontinuous at line 15317.\n",
      "  warnings.warn(\n",
      "/Users/briantrippe/opt/anaconda3/lib/python3.9/site-packages/Bio/PDB/StructureBuilder.py:89: PDBConstructionWarning: WARNING: Chain B is discontinuous at line 15344.\n",
      "  warnings.warn(\n",
      "/Users/briantrippe/opt/anaconda3/lib/python3.9/site-packages/Bio/PDB/StructureBuilder.py:89: PDBConstructionWarning: WARNING: Chain C is discontinuous at line 15371.\n",
      "  warnings.warn(\n"
     ]
    },
    {
     "name": "stdout",
     "output_type": "stream",
     "text": [
      "motif_fn: ../motif_pdbs/16_7AHO.pdb\n",
      "17 7BNY,A83-97;A111-125,,125\n"
     ]
    },
    {
     "name": "stderr",
     "output_type": "stream",
     "text": [
      "/Users/briantrippe/opt/anaconda3/lib/python3.9/site-packages/Bio/PDB/StructureBuilder.py:89: PDBConstructionWarning: WARNING: Chain A is discontinuous at line 9477.\n",
      "  warnings.warn(\n",
      "/Users/briantrippe/opt/anaconda3/lib/python3.9/site-packages/Bio/PDB/StructureBuilder.py:89: PDBConstructionWarning: WARNING: Chain B is discontinuous at line 9492.\n",
      "  warnings.warn(\n",
      "/Users/briantrippe/opt/anaconda3/lib/python3.9/site-packages/Bio/PDB/StructureBuilder.py:89: PDBConstructionWarning: WARNING: Chain C is discontinuous at line 9507.\n",
      "  warnings.warn(\n",
      "/Users/briantrippe/opt/anaconda3/lib/python3.9/site-packages/Bio/PDB/StructureBuilder.py:89: PDBConstructionWarning: WARNING: Chain D is discontinuous at line 9512.\n",
      "  warnings.warn(\n",
      "/Users/briantrippe/opt/anaconda3/lib/python3.9/site-packages/Bio/PDB/StructureBuilder.py:89: PDBConstructionWarning: WARNING: Chain A is discontinuous at line 9522.\n",
      "  warnings.warn(\n",
      "/Users/briantrippe/opt/anaconda3/lib/python3.9/site-packages/Bio/PDB/StructureBuilder.py:89: PDBConstructionWarning: WARNING: Chain B is discontinuous at line 9578.\n",
      "  warnings.warn(\n",
      "/Users/briantrippe/opt/anaconda3/lib/python3.9/site-packages/Bio/PDB/StructureBuilder.py:89: PDBConstructionWarning: WARNING: Chain C is discontinuous at line 9623.\n",
      "  warnings.warn(\n",
      "/Users/briantrippe/opt/anaconda3/lib/python3.9/site-packages/Bio/PDB/StructureBuilder.py:89: PDBConstructionWarning: WARNING: Chain D is discontinuous at line 9649.\n",
      "  warnings.warn(\n"
     ]
    },
    {
     "name": "stdout",
     "output_type": "stream",
     "text": [
      "motif_fn: ../motif_pdbs/17_7BNY.pdb\n",
      "18 7DGW,A22-36;A70-84,,125\n",
      "motif_fn: ../motif_pdbs/18_7DGW.pdb\n",
      "19 7KUW,A2-16;A30-44,,125\n",
      "motif_fn: ../motif_pdbs/19_7KUW.pdb\n",
      "20 7KWW,B14-28,,125\n"
     ]
    },
    {
     "name": "stderr",
     "output_type": "stream",
     "text": [
      "/Users/briantrippe/opt/anaconda3/lib/python3.9/site-packages/Bio/PDB/StructureBuilder.py:89: PDBConstructionWarning: WARNING: Chain A is discontinuous at line 2410.\n",
      "  warnings.warn(\n",
      "/Users/briantrippe/opt/anaconda3/lib/python3.9/site-packages/Bio/PDB/StructureBuilder.py:89: PDBConstructionWarning: WARNING: Chain B is discontinuous at line 2506.\n",
      "  warnings.warn(\n"
     ]
    },
    {
     "name": "stdout",
     "output_type": "stream",
     "text": [
      "motif_fn: ../motif_pdbs/20_7KWW.pdb\n",
      "21 7MQQ,A80-94;A115-129,,125\n",
      "motif_fn: ../motif_pdbs/21_7MQQ.pdb\n",
      "22 7S5L,A27-41;A77-91,,125\n",
      "motif_fn: ../motif_pdbs/22_7S5L.pdb\n",
      "23 7WRK,A80-94,,125\n",
      "motif_fn: ../motif_pdbs/23_7WRK.pdb\n",
      "24 6CPA,A69-72;A127;A196;A248;A270,A70-71,200\n",
      "motif_fn: ../motif_pdbs/24_6CPA.pdb\n",
      "25 1MPY,A153;A199;A214;A246;A255;A265,,125\n"
     ]
    },
    {
     "name": "stderr",
     "output_type": "stream",
     "text": [
      "/Users/briantrippe/opt/anaconda3/lib/python3.9/site-packages/Bio/PDB/StructureBuilder.py:89: PDBConstructionWarning: WARNING: Chain A is discontinuous at line 10615.\n",
      "  warnings.warn(\n",
      "/Users/briantrippe/opt/anaconda3/lib/python3.9/site-packages/Bio/PDB/StructureBuilder.py:89: PDBConstructionWarning: WARNING: Chain B is discontinuous at line 10620.\n",
      "  warnings.warn(\n",
      "/Users/briantrippe/opt/anaconda3/lib/python3.9/site-packages/Bio/PDB/StructureBuilder.py:89: PDBConstructionWarning: WARNING: Chain C is discontinuous at line 10625.\n",
      "  warnings.warn(\n",
      "/Users/briantrippe/opt/anaconda3/lib/python3.9/site-packages/Bio/PDB/StructureBuilder.py:89: PDBConstructionWarning: WARNING: Chain D is discontinuous at line 10630.\n",
      "  warnings.warn(\n",
      "/Users/briantrippe/opt/anaconda3/lib/python3.9/site-packages/Bio/PDB/StructureBuilder.py:89: PDBConstructionWarning: WARNING: Chain A is discontinuous at line 10635.\n",
      "  warnings.warn(\n",
      "/Users/briantrippe/opt/anaconda3/lib/python3.9/site-packages/Bio/PDB/StructureBuilder.py:89: PDBConstructionWarning: WARNING: Chain B is discontinuous at line 10667.\n",
      "  warnings.warn(\n",
      "/Users/briantrippe/opt/anaconda3/lib/python3.9/site-packages/Bio/PDB/StructureBuilder.py:89: PDBConstructionWarning: WARNING: Chain C is discontinuous at line 10691.\n",
      "  warnings.warn(\n",
      "/Users/briantrippe/opt/anaconda3/lib/python3.9/site-packages/Bio/PDB/StructureBuilder.py:89: PDBConstructionWarning: WARNING: Chain D is discontinuous at line 10714.\n",
      "  warnings.warn(\n"
     ]
    },
    {
     "name": "stdout",
     "output_type": "stream",
     "text": [
      "motif_fn: ../motif_pdbs/25_1MPY.pdb\n",
      "26 1B73,A7-8;A70;A178-180,A179,125\n",
      "motif_fn: ../motif_pdbs/26_1B73.pdb\n",
      "27 2RKX,A9-11;A48-50;A101;A128;A169;A176;A201;A222-224,A10;A49;A223,225\n",
      "motif_fn: ../motif_pdbs/27_2RKX.pdb\n",
      "28 3B5V,A51-53;A81;A110;A131;A159;A180-184;A210-211;A231-233,A52;A181;A183;A232,200\n",
      "motif_fn: ../motif_pdbs/28_3B5V.pdb\n",
      "29 4XOJ,A55;A99;A190-192,A191,150\n"
     ]
    },
    {
     "name": "stderr",
     "output_type": "stream",
     "text": [
      "/Users/briantrippe/opt/anaconda3/lib/python3.9/site-packages/Bio/PDB/StructureBuilder.py:89: PDBConstructionWarning: WARNING: Chain A is discontinuous at line 4414.\n",
      "  warnings.warn(\n",
      "/Users/briantrippe/opt/anaconda3/lib/python3.9/site-packages/Bio/PDB/StructureBuilder.py:89: PDBConstructionWarning: WARNING: Chain B is discontinuous at line 5286.\n",
      "  warnings.warn(\n"
     ]
    },
    {
     "name": "stdout",
     "output_type": "stream",
     "text": [
      "motif_fn: ../motif_pdbs/29_4XOJ.pdb\n",
      "30 1qy3,A58-71;A96;A222,A58-61;A63-64;A68-71,225\n",
      "motif_fn: ../motif_pdbs/30_1qy3.pdb\n",
      "31 1ldb,A186-206,,125\n"
     ]
    },
    {
     "name": "stderr",
     "output_type": "stream",
     "text": [
      "/Users/briantrippe/opt/anaconda3/lib/python3.9/site-packages/Bio/PDB/StructureBuilder.py:89: PDBConstructionWarning: WARNING: Chain A is discontinuous at line 9678.\n",
      "  warnings.warn(\n"
     ]
    },
    {
     "name": "stdout",
     "output_type": "stream",
     "text": [
      "motif_fn: ../motif_pdbs/31_1ldb.pdb\n",
      "32 1itu,A124-147,,150\n"
     ]
    },
    {
     "name": "stderr",
     "output_type": "stream",
     "text": [
      "/Users/briantrippe/opt/anaconda3/lib/python3.9/site-packages/Bio/PDB/StructureBuilder.py:89: PDBConstructionWarning: WARNING: Chain A is discontinuous at line 6322.\n",
      "  warnings.warn(\n",
      "/Users/briantrippe/opt/anaconda3/lib/python3.9/site-packages/Bio/PDB/StructureBuilder.py:89: PDBConstructionWarning: WARNING: Chain B is discontinuous at line 6368.\n",
      "  warnings.warn(\n",
      "/Users/briantrippe/opt/anaconda3/lib/python3.9/site-packages/Bio/PDB/StructureBuilder.py:89: PDBConstructionWarning: WARNING: Chain A is discontinuous at line 6414.\n",
      "  warnings.warn(\n",
      "/Users/briantrippe/opt/anaconda3/lib/python3.9/site-packages/Bio/PDB/StructureBuilder.py:89: PDBConstructionWarning: WARNING: Chain B is discontinuous at line 6753.\n",
      "  warnings.warn(\n"
     ]
    },
    {
     "name": "stdout",
     "output_type": "stream",
     "text": [
      "motif_fn: ../motif_pdbs/32_1itu.pdb\n",
      "33 1yov,B213-223,,75\n"
     ]
    },
    {
     "name": "stderr",
     "output_type": "stream",
     "text": [
      "/Users/briantrippe/opt/anaconda3/lib/python3.9/site-packages/Bio/PDB/StructureBuilder.py:89: PDBConstructionWarning: WARNING: Chain B is discontinuous at line 15357.\n",
      "  warnings.warn(\n",
      "/Users/briantrippe/opt/anaconda3/lib/python3.9/site-packages/Bio/PDB/StructureBuilder.py:89: PDBConstructionWarning: WARNING: Chain D is discontinuous at line 15358.\n",
      "  warnings.warn(\n",
      "/Users/briantrippe/opt/anaconda3/lib/python3.9/site-packages/Bio/PDB/StructureBuilder.py:89: PDBConstructionWarning: WARNING: Chain A is discontinuous at line 15359.\n",
      "  warnings.warn(\n",
      "/Users/briantrippe/opt/anaconda3/lib/python3.9/site-packages/Bio/PDB/StructureBuilder.py:89: PDBConstructionWarning: WARNING: Chain B is discontinuous at line 15412.\n",
      "  warnings.warn(\n",
      "/Users/briantrippe/opt/anaconda3/lib/python3.9/site-packages/Bio/PDB/StructureBuilder.py:89: PDBConstructionWarning: WARNING: Chain C is discontinuous at line 15474.\n",
      "  warnings.warn(\n",
      "/Users/briantrippe/opt/anaconda3/lib/python3.9/site-packages/Bio/PDB/StructureBuilder.py:89: PDBConstructionWarning: WARNING: Chain D is discontinuous at line 15493.\n",
      "  warnings.warn(\n"
     ]
    },
    {
     "name": "stdout",
     "output_type": "stream",
     "text": [
      "motif_fn: ../motif_pdbs/33_1yov.pdb\n",
      "34 1a41,A248-280,,100\n",
      "motif_fn: ../motif_pdbs/34_1a41.pdb\n",
      "35 1lcc,A1-51,,150\n"
     ]
    },
    {
     "name": "stderr",
     "output_type": "stream",
     "text": [
      "/Users/briantrippe/opt/anaconda3/lib/python3.9/site-packages/Bio/PDB/StructureBuilder.py:89: PDBConstructionWarning: WARNING: Chain C is discontinuous at line 1429.\n",
      "  warnings.warn(\n",
      "/Users/briantrippe/opt/anaconda3/lib/python3.9/site-packages/Bio/PDB/StructureBuilder.py:89: PDBConstructionWarning: WARNING: Chain B is discontinuous at line 1430.\n",
      "  warnings.warn(\n",
      "/Users/briantrippe/opt/anaconda3/lib/python3.9/site-packages/Bio/PDB/StructureBuilder.py:89: PDBConstructionWarning: WARNING: Chain C is discontinuous at line 1466.\n",
      "  warnings.warn(\n",
      "/Users/briantrippe/opt/anaconda3/lib/python3.9/site-packages/Bio/PDB/StructureBuilder.py:89: PDBConstructionWarning: WARNING: Chain A is discontinuous at line 1508.\n",
      "  warnings.warn(\n"
     ]
    },
    {
     "name": "stdout",
     "output_type": "stream",
     "text": [
      "motif_fn: ../motif_pdbs/35_1lcc.pdb\n",
      "36 5ze9,A229-243,,100\n"
     ]
    },
    {
     "name": "stderr",
     "output_type": "stream",
     "text": [
      "/Users/briantrippe/opt/anaconda3/lib/python3.9/site-packages/Bio/PDB/StructureBuilder.py:89: PDBConstructionWarning: WARNING: Chain A is discontinuous at line 50903.\n",
      "  warnings.warn(\n",
      "/Users/briantrippe/opt/anaconda3/lib/python3.9/site-packages/Bio/PDB/StructureBuilder.py:89: PDBConstructionWarning: WARNING: Chain B is discontinuous at line 50977.\n",
      "  warnings.warn(\n",
      "/Users/briantrippe/opt/anaconda3/lib/python3.9/site-packages/Bio/PDB/StructureBuilder.py:89: PDBConstructionWarning: WARNING: Chain C is discontinuous at line 51069.\n",
      "  warnings.warn(\n",
      "/Users/briantrippe/opt/anaconda3/lib/python3.9/site-packages/Bio/PDB/StructureBuilder.py:89: PDBConstructionWarning: WARNING: Chain D is discontinuous at line 51149.\n",
      "  warnings.warn(\n",
      "/Users/briantrippe/opt/anaconda3/lib/python3.9/site-packages/Bio/PDB/StructureBuilder.py:89: PDBConstructionWarning: WARNING: Chain E is discontinuous at line 51179.\n",
      "  warnings.warn(\n",
      "/Users/briantrippe/opt/anaconda3/lib/python3.9/site-packages/Bio/PDB/StructureBuilder.py:89: PDBConstructionWarning: WARNING: Chain F is discontinuous at line 51203.\n",
      "  warnings.warn(\n",
      "/Users/briantrippe/opt/anaconda3/lib/python3.9/site-packages/Bio/PDB/StructureBuilder.py:89: PDBConstructionWarning: WARNING: Chain A is discontinuous at line 51245.\n",
      "  warnings.warn(\n",
      "/Users/briantrippe/opt/anaconda3/lib/python3.9/site-packages/Bio/PDB/StructureBuilder.py:89: PDBConstructionWarning: WARNING: Chain B is discontinuous at line 51424.\n",
      "  warnings.warn(\n",
      "/Users/briantrippe/opt/anaconda3/lib/python3.9/site-packages/Bio/PDB/StructureBuilder.py:89: PDBConstructionWarning: WARNING: Chain C is discontinuous at line 51722.\n",
      "  warnings.warn(\n",
      "/Users/briantrippe/opt/anaconda3/lib/python3.9/site-packages/Bio/PDB/StructureBuilder.py:89: PDBConstructionWarning: WARNING: Chain D is discontinuous at line 52022.\n",
      "  warnings.warn(\n",
      "/Users/briantrippe/opt/anaconda3/lib/python3.9/site-packages/Bio/PDB/StructureBuilder.py:89: PDBConstructionWarning: WARNING: Chain E is discontinuous at line 52152.\n",
      "  warnings.warn(\n",
      "/Users/briantrippe/opt/anaconda3/lib/python3.9/site-packages/Bio/PDB/StructureBuilder.py:89: PDBConstructionWarning: WARNING: Chain F is discontinuous at line 52325.\n",
      "  warnings.warn(\n"
     ]
    },
    {
     "name": "stdout",
     "output_type": "stream",
     "text": [
      "motif_fn: ../motif_pdbs/36_5ze9.pdb\n",
      "37 7uwl,E63-73;E101-111,E104,175\n"
     ]
    },
    {
     "name": "stderr",
     "output_type": "stream",
     "text": [
      "/Users/briantrippe/opt/anaconda3/lib/python3.9/site-packages/Bio/PDB/StructureBuilder.py:89: PDBConstructionWarning: WARNING: Chain A is discontinuous at line 11094.\n",
      "  warnings.warn(\n",
      "/Users/briantrippe/opt/anaconda3/lib/python3.9/site-packages/Bio/PDB/StructureBuilder.py:89: PDBConstructionWarning: WARNING: Chain B is discontinuous at line 11108.\n",
      "  warnings.warn(\n",
      "/Users/briantrippe/opt/anaconda3/lib/python3.9/site-packages/Bio/PDB/StructureBuilder.py:89: PDBConstructionWarning: WARNING: Chain C is discontinuous at line 11122.\n",
      "  warnings.warn(\n",
      "/Users/briantrippe/opt/anaconda3/lib/python3.9/site-packages/Bio/PDB/StructureBuilder.py:89: PDBConstructionWarning: WARNING: Chain D is discontinuous at line 11164.\n",
      "  warnings.warn(\n",
      "/Users/briantrippe/opt/anaconda3/lib/python3.9/site-packages/Bio/PDB/StructureBuilder.py:89: PDBConstructionWarning: WARNING: Chain E is discontinuous at line 11206.\n",
      "  warnings.warn(\n",
      "/Users/briantrippe/opt/anaconda3/lib/python3.9/site-packages/Bio/PDB/StructureBuilder.py:89: PDBConstructionWarning: WARNING: Chain F is discontinuous at line 11248.\n",
      "  warnings.warn(\n"
     ]
    },
    {
     "name": "stdout",
     "output_type": "stream",
     "text": [
      "motif_fn: ../motif_pdbs/37_7uwl.pdb\n",
      "38 7uwl,E63-73;E101-111;E132-142;E165-174,E104,175\n"
     ]
    },
    {
     "name": "stderr",
     "output_type": "stream",
     "text": [
      "/Users/briantrippe/opt/anaconda3/lib/python3.9/site-packages/Bio/PDB/StructureBuilder.py:89: PDBConstructionWarning: WARNING: Chain A is discontinuous at line 11094.\n",
      "  warnings.warn(\n",
      "/Users/briantrippe/opt/anaconda3/lib/python3.9/site-packages/Bio/PDB/StructureBuilder.py:89: PDBConstructionWarning: WARNING: Chain B is discontinuous at line 11108.\n",
      "  warnings.warn(\n",
      "/Users/briantrippe/opt/anaconda3/lib/python3.9/site-packages/Bio/PDB/StructureBuilder.py:89: PDBConstructionWarning: WARNING: Chain C is discontinuous at line 11122.\n",
      "  warnings.warn(\n",
      "/Users/briantrippe/opt/anaconda3/lib/python3.9/site-packages/Bio/PDB/StructureBuilder.py:89: PDBConstructionWarning: WARNING: Chain D is discontinuous at line 11164.\n",
      "  warnings.warn(\n",
      "/Users/briantrippe/opt/anaconda3/lib/python3.9/site-packages/Bio/PDB/StructureBuilder.py:89: PDBConstructionWarning: WARNING: Chain E is discontinuous at line 11206.\n",
      "  warnings.warn(\n",
      "/Users/briantrippe/opt/anaconda3/lib/python3.9/site-packages/Bio/PDB/StructureBuilder.py:89: PDBConstructionWarning: WARNING: Chain F is discontinuous at line 11248.\n",
      "  warnings.warn(\n"
     ]
    },
    {
     "name": "stdout",
     "output_type": "stream",
     "text": [
      "motif_fn: ../motif_pdbs/38_7uwl.pdb\n",
      "39 6E6R,A23-35,A23-35,200\n",
      "motif_fn: ../motif_pdbs/39_6E6R.pdb\n",
      "40 6EXZ,A556-570,A556-570,200\n",
      "motif_fn: ../motif_pdbs/40_6EXZ.pdb\n"
     ]
    }
   ],
   "source": [
    "motif_specs_paths = [\n",
    "    #\"../test_cases/rfdiffusion_benchmark/motif_specs.csv\",\n",
    "    #\"../test_cases/orphans/motif_specs.csv\",\n",
    "    #\"../test_cases/other_enzymes/motif_specs.csv\",\n",
    "    #\"../test_cases/ESM3/motif_specs.csv\"\n",
    "    \"../motif_specs.csv\"\n",
    "]\n",
    "\n",
    "# Make sure the motif_pdb_dir and native_pdb_dir directories exist.\n",
    "motif_pdb_dir = \"../motif_pdbs/\"\n",
    "if not os.path.exists(motif_pdb_dir): os.makedirs(motif_pdb_dir)\n",
    "\n",
    "native_pdb_dir = \"../native_pdbs/\"\n",
    "if not os.path.exists(native_pdb_dir): os.makedirs(native_pdb_dir)\n",
    "\n",
    "# Parse the motif specs files and save the motif PDBs.\n",
    "for motif_specs_path in motif_specs_paths:\n",
    "    with open(motif_specs_path, \"r\") as f:\n",
    "        for idx, line in enumerate(f):\n",
    "            print(f\"{idx:02d}\", line.strip())\n",
    "            save_motif_pdb(line.strip(), motif_pdb_dir=motif_pdb_dir, native_pdb_dir=native_pdb_dir, idx=idx)\n"
   ]
  },
  {
   "cell_type": "code",
   "execution_count": 6,
   "metadata": {},
   "outputs": [
    {
     "name": "stdout",
     "output_type": "stream",
     "text": [
      "00 1BCF,A18-25;A47-54;A92-99;A123-130,A19-25;A47-50;A52-53;A92-93;A95-99;A123-126;A128-129,125\n"
     ]
    },
    {
     "name": "stderr",
     "output_type": "stream",
     "text": [
      "/Users/briantrippe/opt/anaconda3/lib/python3.9/site-packages/Bio/PDB/StructureBuilder.py:89: PDBConstructionWarning: WARNING: Chain A is discontinuous at line 17010.\n",
      "  warnings.warn(\n",
      "/Users/briantrippe/opt/anaconda3/lib/python3.9/site-packages/Bio/PDB/StructureBuilder.py:89: PDBConstructionWarning: WARNING: Chain B is discontinuous at line 17055.\n",
      "  warnings.warn(\n",
      "/Users/briantrippe/opt/anaconda3/lib/python3.9/site-packages/Bio/PDB/StructureBuilder.py:89: PDBConstructionWarning: WARNING: Chain C is discontinuous at line 17057.\n",
      "  warnings.warn(\n",
      "/Users/briantrippe/opt/anaconda3/lib/python3.9/site-packages/Bio/PDB/StructureBuilder.py:89: PDBConstructionWarning: WARNING: Chain D is discontinuous at line 17102.\n",
      "  warnings.warn(\n",
      "/Users/briantrippe/opt/anaconda3/lib/python3.9/site-packages/Bio/PDB/StructureBuilder.py:89: PDBConstructionWarning: WARNING: Chain E is discontinuous at line 17104.\n",
      "  warnings.warn(\n",
      "/Users/briantrippe/opt/anaconda3/lib/python3.9/site-packages/Bio/PDB/StructureBuilder.py:89: PDBConstructionWarning: WARNING: Chain F is discontinuous at line 17149.\n",
      "  warnings.warn(\n",
      "/Users/briantrippe/opt/anaconda3/lib/python3.9/site-packages/Bio/PDB/StructureBuilder.py:89: PDBConstructionWarning: WARNING: Chain G is discontinuous at line 17151.\n",
      "  warnings.warn(\n",
      "/Users/briantrippe/opt/anaconda3/lib/python3.9/site-packages/Bio/PDB/StructureBuilder.py:89: PDBConstructionWarning: WARNING: Chain H is discontinuous at line 17196.\n",
      "  warnings.warn(\n",
      "/Users/briantrippe/opt/anaconda3/lib/python3.9/site-packages/Bio/PDB/StructureBuilder.py:89: PDBConstructionWarning: WARNING: Chain I is discontinuous at line 17198.\n",
      "  warnings.warn(\n",
      "/Users/briantrippe/opt/anaconda3/lib/python3.9/site-packages/Bio/PDB/StructureBuilder.py:89: PDBConstructionWarning: WARNING: Chain J is discontinuous at line 17243.\n",
      "  warnings.warn(\n",
      "/Users/briantrippe/opt/anaconda3/lib/python3.9/site-packages/Bio/PDB/StructureBuilder.py:89: PDBConstructionWarning: WARNING: Chain K is discontinuous at line 17245.\n",
      "  warnings.warn(\n",
      "/Users/briantrippe/opt/anaconda3/lib/python3.9/site-packages/Bio/PDB/StructureBuilder.py:89: PDBConstructionWarning: WARNING: Chain L is discontinuous at line 17290.\n",
      "  warnings.warn(\n"
     ]
    },
    {
     "name": "stdout",
     "output_type": "stream",
     "text": [
      "motif segments: [{'chain': 'A', 'start': '18', 'end': '25'}, {'chain': 'A', 'start': '47', 'end': '54'}, {'chain': 'A', 'start': '92', 'end': '99'}, {'chain': 'A', 'start': '123', 'end': '130'}]\n",
      "motif_fn: ../motif_pdbs_genie/00_1BCF.pdb\n",
      "01 5TPN,A163-181,A163-168;A170-171;A179,75\n",
      "motif segments: [{'chain': 'A', 'start': '163', 'end': '181'}]\n",
      "motif_fn: ../motif_pdbs_genie/01_5TPN.pdb\n",
      "02 5IUS,A63-82;A119-140,A63;A65;A67;A69;A71-72;A76;A79-80;A82;A119-123;A125;A127;A129-130;A133;A135;A137-138;A140,100\n"
     ]
    },
    {
     "name": "stderr",
     "output_type": "stream",
     "text": [
      "/Users/briantrippe/opt/anaconda3/lib/python3.9/site-packages/Bio/PDB/StructureBuilder.py:89: PDBConstructionWarning: WARNING: Chain A is discontinuous at line 11147.\n",
      "  warnings.warn(\n",
      "/Users/briantrippe/opt/anaconda3/lib/python3.9/site-packages/Bio/PDB/StructureBuilder.py:89: PDBConstructionWarning: WARNING: Chain B is discontinuous at line 11154.\n",
      "  warnings.warn(\n",
      "/Users/briantrippe/opt/anaconda3/lib/python3.9/site-packages/Bio/PDB/StructureBuilder.py:89: PDBConstructionWarning: WARNING: Chain C is discontinuous at line 11160.\n",
      "  warnings.warn(\n",
      "/Users/briantrippe/opt/anaconda3/lib/python3.9/site-packages/Bio/PDB/StructureBuilder.py:89: PDBConstructionWarning: WARNING: Chain D is discontinuous at line 11173.\n",
      "  warnings.warn(\n"
     ]
    },
    {
     "name": "stdout",
     "output_type": "stream",
     "text": [
      "motif segments: [{'chain': 'A', 'start': '63', 'end': '82'}, {'chain': 'A', 'start': '119', 'end': '140'}]\n",
      "motif_fn: ../motif_pdbs_genie/02_5IUS.pdb\n",
      "03 3IXT,P254-277,P255;P258-259;P262-263;P268;P271-272;P275-276,75\n"
     ]
    },
    {
     "name": "stderr",
     "output_type": "stream",
     "text": [
      "/Users/briantrippe/opt/anaconda3/lib/python3.9/site-packages/Bio/PDB/StructureBuilder.py:89: PDBConstructionWarning: WARNING: Chain P is discontinuous at line 14488.\n",
      "  warnings.warn(\n",
      "/Users/briantrippe/opt/anaconda3/lib/python3.9/site-packages/Bio/PDB/StructureBuilder.py:89: PDBConstructionWarning: WARNING: Chain A is discontinuous at line 14492.\n",
      "  warnings.warn(\n",
      "/Users/briantrippe/opt/anaconda3/lib/python3.9/site-packages/Bio/PDB/StructureBuilder.py:89: PDBConstructionWarning: WARNING: Chain C is discontinuous at line 14496.\n",
      "  warnings.warn(\n",
      "/Users/briantrippe/opt/anaconda3/lib/python3.9/site-packages/Bio/PDB/StructureBuilder.py:89: PDBConstructionWarning: WARNING: Chain L is discontinuous at line 14500.\n",
      "  warnings.warn(\n",
      "/Users/briantrippe/opt/anaconda3/lib/python3.9/site-packages/Bio/PDB/StructureBuilder.py:89: PDBConstructionWarning: WARNING: Chain H is discontinuous at line 14536.\n",
      "  warnings.warn(\n",
      "/Users/briantrippe/opt/anaconda3/lib/python3.9/site-packages/Bio/PDB/StructureBuilder.py:89: PDBConstructionWarning: WARNING: Chain P is discontinuous at line 14576.\n",
      "  warnings.warn(\n",
      "/Users/briantrippe/opt/anaconda3/lib/python3.9/site-packages/Bio/PDB/StructureBuilder.py:89: PDBConstructionWarning: WARNING: Chain B is discontinuous at line 14579.\n",
      "  warnings.warn(\n",
      "/Users/briantrippe/opt/anaconda3/lib/python3.9/site-packages/Bio/PDB/StructureBuilder.py:89: PDBConstructionWarning: WARNING: Chain A is discontinuous at line 14609.\n",
      "  warnings.warn(\n",
      "/Users/briantrippe/opt/anaconda3/lib/python3.9/site-packages/Bio/PDB/StructureBuilder.py:89: PDBConstructionWarning: WARNING: Chain C is discontinuous at line 14649.\n",
      "  warnings.warn(\n"
     ]
    },
    {
     "name": "stdout",
     "output_type": "stream",
     "text": [
      "motif segments: [{'chain': 'P', 'start': '254', 'end': '277'}]\n",
      "motif_fn: ../motif_pdbs_genie/03_3IXT.pdb\n",
      "04 5YUI,A93-97;A118-120;A198-200,A93;A95;A97;A118;A120,75\n",
      "motif segments: [{'chain': 'A', 'start': '93', 'end': '97'}, {'chain': 'A', 'start': '118', 'end': '120'}, {'chain': 'A', 'start': '198', 'end': '200'}]\n",
      "motif_fn: ../motif_pdbs_genie/04_5YUI.pdb\n",
      "05 1YCR,B19-27,B20-22;B24-25,75\n",
      "motif segments: [{'chain': 'B', 'start': '19', 'end': '27'}]\n",
      "motif_fn: ../motif_pdbs_genie/05_1YCR.pdb\n",
      "06 2KL8,A1-7;A28-79,,100\n",
      "motif segments: [{'chain': 'A', 'start': '1', 'end': '7'}, {'chain': 'A', 'start': '28', 'end': '79'}]\n",
      "motif_fn: ../motif_pdbs_genie/06_2KL8.pdb\n",
      "07 7MRX,B25-46,B25-46,75\n"
     ]
    },
    {
     "name": "stderr",
     "output_type": "stream",
     "text": [
      "/Users/briantrippe/opt/anaconda3/lib/python3.9/site-packages/Bio/PDB/StructureBuilder.py:89: PDBConstructionWarning: WARNING: Chain A is discontinuous at line 10632.\n",
      "  warnings.warn(\n",
      "/Users/briantrippe/opt/anaconda3/lib/python3.9/site-packages/Bio/PDB/StructureBuilder.py:89: PDBConstructionWarning: WARNING: Chain B is discontinuous at line 10739.\n",
      "  warnings.warn(\n",
      "/Users/briantrippe/opt/anaconda3/lib/python3.9/site-packages/Bio/PDB/StructureBuilder.py:89: PDBConstructionWarning: WARNING: Chain C is discontinuous at line 10808.\n",
      "  warnings.warn(\n",
      "/Users/briantrippe/opt/anaconda3/lib/python3.9/site-packages/Bio/PDB/StructureBuilder.py:89: PDBConstructionWarning: WARNING: Chain D is discontinuous at line 10912.\n",
      "  warnings.warn(\n",
      "/Users/briantrippe/opt/anaconda3/lib/python3.9/site-packages/Bio/PDB/StructureBuilder.py:89: PDBConstructionWarning: WARNING: Chain E is discontinuous at line 10946.\n",
      "  warnings.warn(\n",
      "/Users/briantrippe/opt/anaconda3/lib/python3.9/site-packages/Bio/PDB/StructureBuilder.py:89: PDBConstructionWarning: WARNING: Chain F is discontinuous at line 10987.\n",
      "  warnings.warn(\n"
     ]
    },
    {
     "name": "stdout",
     "output_type": "stream",
     "text": [
      "motif segments: [{'chain': 'B', 'start': '25', 'end': '46'}]\n",
      "motif_fn: ../motif_pdbs_genie/07_7MRX.pdb\n",
      "08 4JHW,F63-69;F196-212,F63;F69;F196;F198;F203;F211-212,125\n",
      "motif segments: [{'chain': 'F', 'start': '63', 'end': '69'}, {'chain': 'F', 'start': '196', 'end': '212'}]\n",
      "motif_fn: ../motif_pdbs_genie/08_4JHW.pdb\n",
      "09 4ZYP,A422-436,A422-427;A430-431;A433-43,75\n",
      "motif segments: [{'chain': 'A', 'start': '422', 'end': '436'}]\n",
      "motif_fn: ../motif_pdbs_genie/09_4ZYP.pdb\n",
      "10 5WN9,A170-189,A170-175;A188-189,75\n"
     ]
    },
    {
     "name": "stderr",
     "output_type": "stream",
     "text": [
      "/Users/briantrippe/opt/anaconda3/lib/python3.9/site-packages/Bio/PDB/StructureBuilder.py:89: PDBConstructionWarning: WARNING: Chain H is discontinuous at line 6270.\n",
      "  warnings.warn(\n",
      "/Users/briantrippe/opt/anaconda3/lib/python3.9/site-packages/Bio/PDB/StructureBuilder.py:89: PDBConstructionWarning: WARNING: Chain A is discontinuous at line 6375.\n",
      "  warnings.warn(\n"
     ]
    },
    {
     "name": "stdout",
     "output_type": "stream",
     "text": [
      "motif segments: [{'chain': 'A', 'start': '170', 'end': '189'}]\n",
      "motif_fn: ../motif_pdbs_genie/10_5WN9.pdb\n",
      "11 5TRV,A45-65,A45-65,75\n",
      "motif segments: [{'chain': 'A', 'start': '45', 'end': '65'}]\n",
      "motif_fn: ../motif_pdbs_genie/11_5TRV.pdb\n",
      "12 6E6R,A23-35,A23-35,75\n",
      "motif segments: [{'chain': 'A', 'start': '23', 'end': '35'}]\n",
      "motif_fn: ../motif_pdbs_genie/12_6E6R.pdb\n",
      "13 6EXZ,A556-570,A556-570,100\n",
      "motif segments: [{'chain': 'A', 'start': '556', 'end': '570'}]\n",
      "motif_fn: ../motif_pdbs_genie/13_6EXZ.pdb\n",
      "14 7A8S,A41-55;A72-86,,100\n",
      "motif segments: [{'chain': 'A', 'start': '41', 'end': '55'}, {'chain': 'A', 'start': '72', 'end': '86'}]\n",
      "motif_fn: ../motif_pdbs_genie/14_7A8S.pdb\n",
      "15 7AD5,A99-113,,125\n",
      "motif segments: [{'chain': 'A', 'start': '99', 'end': '113'}]\n",
      "motif_fn: ../motif_pdbs_genie/15_7AD5.pdb\n",
      "16 7AHO,A199-213,,125\n"
     ]
    },
    {
     "name": "stderr",
     "output_type": "stream",
     "text": [
      "/Users/briantrippe/opt/anaconda3/lib/python3.9/site-packages/Bio/PDB/StructureBuilder.py:89: PDBConstructionWarning: WARNING: Chain A is discontinuous at line 15317.\n",
      "  warnings.warn(\n",
      "/Users/briantrippe/opt/anaconda3/lib/python3.9/site-packages/Bio/PDB/StructureBuilder.py:89: PDBConstructionWarning: WARNING: Chain B is discontinuous at line 15344.\n",
      "  warnings.warn(\n",
      "/Users/briantrippe/opt/anaconda3/lib/python3.9/site-packages/Bio/PDB/StructureBuilder.py:89: PDBConstructionWarning: WARNING: Chain C is discontinuous at line 15371.\n",
      "  warnings.warn(\n"
     ]
    },
    {
     "name": "stdout",
     "output_type": "stream",
     "text": [
      "motif segments: [{'chain': 'A', 'start': '199', 'end': '213'}]\n",
      "motif_fn: ../motif_pdbs_genie/16_7AHO.pdb\n",
      "17 7BNY,A83-97;A111-125,,125\n"
     ]
    },
    {
     "name": "stderr",
     "output_type": "stream",
     "text": [
      "/Users/briantrippe/opt/anaconda3/lib/python3.9/site-packages/Bio/PDB/StructureBuilder.py:89: PDBConstructionWarning: WARNING: Chain A is discontinuous at line 9477.\n",
      "  warnings.warn(\n",
      "/Users/briantrippe/opt/anaconda3/lib/python3.9/site-packages/Bio/PDB/StructureBuilder.py:89: PDBConstructionWarning: WARNING: Chain B is discontinuous at line 9492.\n",
      "  warnings.warn(\n",
      "/Users/briantrippe/opt/anaconda3/lib/python3.9/site-packages/Bio/PDB/StructureBuilder.py:89: PDBConstructionWarning: WARNING: Chain C is discontinuous at line 9507.\n",
      "  warnings.warn(\n",
      "/Users/briantrippe/opt/anaconda3/lib/python3.9/site-packages/Bio/PDB/StructureBuilder.py:89: PDBConstructionWarning: WARNING: Chain D is discontinuous at line 9512.\n",
      "  warnings.warn(\n",
      "/Users/briantrippe/opt/anaconda3/lib/python3.9/site-packages/Bio/PDB/StructureBuilder.py:89: PDBConstructionWarning: WARNING: Chain A is discontinuous at line 9522.\n",
      "  warnings.warn(\n",
      "/Users/briantrippe/opt/anaconda3/lib/python3.9/site-packages/Bio/PDB/StructureBuilder.py:89: PDBConstructionWarning: WARNING: Chain B is discontinuous at line 9578.\n",
      "  warnings.warn(\n",
      "/Users/briantrippe/opt/anaconda3/lib/python3.9/site-packages/Bio/PDB/StructureBuilder.py:89: PDBConstructionWarning: WARNING: Chain C is discontinuous at line 9623.\n",
      "  warnings.warn(\n",
      "/Users/briantrippe/opt/anaconda3/lib/python3.9/site-packages/Bio/PDB/StructureBuilder.py:89: PDBConstructionWarning: WARNING: Chain D is discontinuous at line 9649.\n",
      "  warnings.warn(\n"
     ]
    },
    {
     "name": "stdout",
     "output_type": "stream",
     "text": [
      "motif segments: [{'chain': 'A', 'start': '83', 'end': '97'}, {'chain': 'A', 'start': '111', 'end': '125'}]\n",
      "motif_fn: ../motif_pdbs_genie/17_7BNY.pdb\n",
      "18 7DGW,A22-36;A70-84,,125\n",
      "motif segments: [{'chain': 'A', 'start': '22', 'end': '36'}, {'chain': 'A', 'start': '70', 'end': '84'}]\n",
      "motif_fn: ../motif_pdbs_genie/18_7DGW.pdb\n",
      "19 7KUW,A2-16;A30-44,,125\n",
      "motif segments: [{'chain': 'A', 'start': '2', 'end': '16'}, {'chain': 'A', 'start': '30', 'end': '44'}]\n",
      "motif_fn: ../motif_pdbs_genie/19_7KUW.pdb\n",
      "20 7KWW,B14-28,,125\n"
     ]
    },
    {
     "name": "stderr",
     "output_type": "stream",
     "text": [
      "/Users/briantrippe/opt/anaconda3/lib/python3.9/site-packages/Bio/PDB/StructureBuilder.py:89: PDBConstructionWarning: WARNING: Chain A is discontinuous at line 2410.\n",
      "  warnings.warn(\n",
      "/Users/briantrippe/opt/anaconda3/lib/python3.9/site-packages/Bio/PDB/StructureBuilder.py:89: PDBConstructionWarning: WARNING: Chain B is discontinuous at line 2506.\n",
      "  warnings.warn(\n"
     ]
    },
    {
     "name": "stdout",
     "output_type": "stream",
     "text": [
      "motif segments: [{'chain': 'B', 'start': '14', 'end': '28'}]\n",
      "motif_fn: ../motif_pdbs_genie/20_7KWW.pdb\n",
      "21 7MQQ,A80-94;A115-129,,125\n",
      "motif segments: [{'chain': 'A', 'start': '80', 'end': '94'}, {'chain': 'A', 'start': '115', 'end': '129'}]\n",
      "motif_fn: ../motif_pdbs_genie/21_7MQQ.pdb\n",
      "22 7S5L,A27-41;A77-91,,125\n",
      "motif segments: [{'chain': 'A', 'start': '27', 'end': '41'}, {'chain': 'A', 'start': '77', 'end': '91'}]\n",
      "motif_fn: ../motif_pdbs_genie/22_7S5L.pdb\n",
      "23 7WRK,A80-94,,125\n",
      "motif segments: [{'chain': 'A', 'start': '80', 'end': '94'}]\n",
      "motif_fn: ../motif_pdbs_genie/23_7WRK.pdb\n",
      "24 6CPA,A69-72;A127;A196;A248;A270,A70-71,200\n",
      "motif segments: [{'chain': 'A', 'start': '69', 'end': '72'}, {'chain': 'A', 'start': '127', 'end': '127'}, {'chain': 'A', 'start': '196', 'end': '196'}, {'chain': 'A', 'start': '248', 'end': '248'}, {'chain': 'A', 'start': '270', 'end': '270'}]\n",
      "motif_fn: ../motif_pdbs_genie/24_6CPA.pdb\n",
      "25 1MPY,A153;A199;A214;A246;A255;A265,,125\n"
     ]
    },
    {
     "name": "stderr",
     "output_type": "stream",
     "text": [
      "/Users/briantrippe/opt/anaconda3/lib/python3.9/site-packages/Bio/PDB/StructureBuilder.py:89: PDBConstructionWarning: WARNING: Chain A is discontinuous at line 10615.\n",
      "  warnings.warn(\n",
      "/Users/briantrippe/opt/anaconda3/lib/python3.9/site-packages/Bio/PDB/StructureBuilder.py:89: PDBConstructionWarning: WARNING: Chain B is discontinuous at line 10620.\n",
      "  warnings.warn(\n",
      "/Users/briantrippe/opt/anaconda3/lib/python3.9/site-packages/Bio/PDB/StructureBuilder.py:89: PDBConstructionWarning: WARNING: Chain C is discontinuous at line 10625.\n",
      "  warnings.warn(\n",
      "/Users/briantrippe/opt/anaconda3/lib/python3.9/site-packages/Bio/PDB/StructureBuilder.py:89: PDBConstructionWarning: WARNING: Chain D is discontinuous at line 10630.\n",
      "  warnings.warn(\n",
      "/Users/briantrippe/opt/anaconda3/lib/python3.9/site-packages/Bio/PDB/StructureBuilder.py:89: PDBConstructionWarning: WARNING: Chain A is discontinuous at line 10635.\n",
      "  warnings.warn(\n",
      "/Users/briantrippe/opt/anaconda3/lib/python3.9/site-packages/Bio/PDB/StructureBuilder.py:89: PDBConstructionWarning: WARNING: Chain B is discontinuous at line 10667.\n",
      "  warnings.warn(\n",
      "/Users/briantrippe/opt/anaconda3/lib/python3.9/site-packages/Bio/PDB/StructureBuilder.py:89: PDBConstructionWarning: WARNING: Chain C is discontinuous at line 10691.\n",
      "  warnings.warn(\n",
      "/Users/briantrippe/opt/anaconda3/lib/python3.9/site-packages/Bio/PDB/StructureBuilder.py:89: PDBConstructionWarning: WARNING: Chain D is discontinuous at line 10714.\n",
      "  warnings.warn(\n"
     ]
    },
    {
     "name": "stdout",
     "output_type": "stream",
     "text": [
      "motif segments: [{'chain': 'A', 'start': '153', 'end': '153'}, {'chain': 'A', 'start': '199', 'end': '199'}, {'chain': 'A', 'start': '214', 'end': '214'}, {'chain': 'A', 'start': '246', 'end': '246'}, {'chain': 'A', 'start': '255', 'end': '255'}, {'chain': 'A', 'start': '265', 'end': '265'}]\n",
      "motif_fn: ../motif_pdbs_genie/25_1MPY.pdb\n",
      "26 1B73,A7-8;A70;A178-180,A179,125\n",
      "motif segments: [{'chain': 'A', 'start': '7', 'end': '8'}, {'chain': 'A', 'start': '70', 'end': '70'}, {'chain': 'A', 'start': '178', 'end': '180'}]\n",
      "motif_fn: ../motif_pdbs_genie/26_1B73.pdb\n",
      "27 2RKX,A9-11;A48-50;A101;A128;A169;A176;A201;A222-224,A10;A49;A223,225\n",
      "motif segments: [{'chain': 'A', 'start': '9', 'end': '11'}, {'chain': 'A', 'start': '48', 'end': '50'}, {'chain': 'A', 'start': '101', 'end': '101'}, {'chain': 'A', 'start': '128', 'end': '128'}, {'chain': 'A', 'start': '169', 'end': '169'}, {'chain': 'A', 'start': '176', 'end': '176'}, {'chain': 'A', 'start': '201', 'end': '201'}, {'chain': 'A', 'start': '222', 'end': '224'}]\n",
      "motif_fn: ../motif_pdbs_genie/27_2RKX.pdb\n",
      "28 3B5V,A51-53;A81;A110;A131;A159;A180-184;A210-211;A231-233,A52;A181;A183;A232,200\n",
      "motif segments: [{'chain': 'A', 'start': '51', 'end': '53'}, {'chain': 'A', 'start': '81', 'end': '81'}, {'chain': 'A', 'start': '110', 'end': '110'}, {'chain': 'A', 'start': '131', 'end': '131'}, {'chain': 'A', 'start': '159', 'end': '159'}, {'chain': 'A', 'start': '180', 'end': '184'}, {'chain': 'A', 'start': '210', 'end': '211'}, {'chain': 'A', 'start': '231', 'end': '233'}]\n",
      "motif_fn: ../motif_pdbs_genie/28_3B5V.pdb\n",
      "29 4XOJ,A55;A99;A190-192,A191,150\n"
     ]
    },
    {
     "name": "stderr",
     "output_type": "stream",
     "text": [
      "/Users/briantrippe/opt/anaconda3/lib/python3.9/site-packages/Bio/PDB/StructureBuilder.py:89: PDBConstructionWarning: WARNING: Chain A is discontinuous at line 4414.\n",
      "  warnings.warn(\n",
      "/Users/briantrippe/opt/anaconda3/lib/python3.9/site-packages/Bio/PDB/StructureBuilder.py:89: PDBConstructionWarning: WARNING: Chain B is discontinuous at line 5286.\n",
      "  warnings.warn(\n"
     ]
    },
    {
     "name": "stdout",
     "output_type": "stream",
     "text": [
      "motif segments: [{'chain': 'A', 'start': '55', 'end': '55'}, {'chain': 'A', 'start': '99', 'end': '99'}, {'chain': 'A', 'start': '190', 'end': '192'}]\n",
      "motif_fn: ../motif_pdbs_genie/29_4XOJ.pdb\n",
      "30 1qy3,A58-71;A96;A222,A58-61;A63-64;A68-71,225\n",
      "motif segments: [{'chain': 'A', 'start': '58', 'end': '71'}, {'chain': 'A', 'start': '96', 'end': '96'}, {'chain': 'A', 'start': '222', 'end': '222'}]\n",
      "motif_fn: ../motif_pdbs_genie/30_1qy3.pdb\n",
      "31 1ldb,A186-206,,125\n"
     ]
    },
    {
     "name": "stderr",
     "output_type": "stream",
     "text": [
      "/Users/briantrippe/opt/anaconda3/lib/python3.9/site-packages/Bio/PDB/StructureBuilder.py:89: PDBConstructionWarning: WARNING: Chain A is discontinuous at line 9678.\n",
      "  warnings.warn(\n"
     ]
    },
    {
     "name": "stdout",
     "output_type": "stream",
     "text": [
      "motif segments: [{'chain': 'A', 'start': '186', 'end': '206'}]\n",
      "motif_fn: ../motif_pdbs_genie/31_1ldb.pdb\n",
      "32 1itu,A124-147,,150\n"
     ]
    },
    {
     "name": "stderr",
     "output_type": "stream",
     "text": [
      "/Users/briantrippe/opt/anaconda3/lib/python3.9/site-packages/Bio/PDB/StructureBuilder.py:89: PDBConstructionWarning: WARNING: Chain A is discontinuous at line 6322.\n",
      "  warnings.warn(\n",
      "/Users/briantrippe/opt/anaconda3/lib/python3.9/site-packages/Bio/PDB/StructureBuilder.py:89: PDBConstructionWarning: WARNING: Chain B is discontinuous at line 6368.\n",
      "  warnings.warn(\n",
      "/Users/briantrippe/opt/anaconda3/lib/python3.9/site-packages/Bio/PDB/StructureBuilder.py:89: PDBConstructionWarning: WARNING: Chain A is discontinuous at line 6414.\n",
      "  warnings.warn(\n",
      "/Users/briantrippe/opt/anaconda3/lib/python3.9/site-packages/Bio/PDB/StructureBuilder.py:89: PDBConstructionWarning: WARNING: Chain B is discontinuous at line 6753.\n",
      "  warnings.warn(\n"
     ]
    },
    {
     "name": "stdout",
     "output_type": "stream",
     "text": [
      "motif segments: [{'chain': 'A', 'start': '124', 'end': '147'}]\n",
      "motif_fn: ../motif_pdbs_genie/32_1itu.pdb\n",
      "33 1yov,B213-223,,75\n"
     ]
    },
    {
     "name": "stderr",
     "output_type": "stream",
     "text": [
      "/Users/briantrippe/opt/anaconda3/lib/python3.9/site-packages/Bio/PDB/StructureBuilder.py:89: PDBConstructionWarning: WARNING: Chain B is discontinuous at line 15357.\n",
      "  warnings.warn(\n",
      "/Users/briantrippe/opt/anaconda3/lib/python3.9/site-packages/Bio/PDB/StructureBuilder.py:89: PDBConstructionWarning: WARNING: Chain D is discontinuous at line 15358.\n",
      "  warnings.warn(\n",
      "/Users/briantrippe/opt/anaconda3/lib/python3.9/site-packages/Bio/PDB/StructureBuilder.py:89: PDBConstructionWarning: WARNING: Chain A is discontinuous at line 15359.\n",
      "  warnings.warn(\n",
      "/Users/briantrippe/opt/anaconda3/lib/python3.9/site-packages/Bio/PDB/StructureBuilder.py:89: PDBConstructionWarning: WARNING: Chain B is discontinuous at line 15412.\n",
      "  warnings.warn(\n",
      "/Users/briantrippe/opt/anaconda3/lib/python3.9/site-packages/Bio/PDB/StructureBuilder.py:89: PDBConstructionWarning: WARNING: Chain C is discontinuous at line 15474.\n",
      "  warnings.warn(\n",
      "/Users/briantrippe/opt/anaconda3/lib/python3.9/site-packages/Bio/PDB/StructureBuilder.py:89: PDBConstructionWarning: WARNING: Chain D is discontinuous at line 15493.\n",
      "  warnings.warn(\n"
     ]
    },
    {
     "name": "stdout",
     "output_type": "stream",
     "text": [
      "motif segments: [{'chain': 'B', 'start': '213', 'end': '223'}]\n",
      "motif_fn: ../motif_pdbs_genie/33_1yov.pdb\n",
      "34 1a41,A248-280,,100\n",
      "motif segments: [{'chain': 'A', 'start': '248', 'end': '280'}]\n",
      "motif_fn: ../motif_pdbs_genie/34_1a41.pdb\n",
      "35 1lcc,A1-51,,150\n"
     ]
    },
    {
     "name": "stderr",
     "output_type": "stream",
     "text": [
      "/Users/briantrippe/opt/anaconda3/lib/python3.9/site-packages/Bio/PDB/StructureBuilder.py:89: PDBConstructionWarning: WARNING: Chain C is discontinuous at line 1429.\n",
      "  warnings.warn(\n",
      "/Users/briantrippe/opt/anaconda3/lib/python3.9/site-packages/Bio/PDB/StructureBuilder.py:89: PDBConstructionWarning: WARNING: Chain B is discontinuous at line 1430.\n",
      "  warnings.warn(\n",
      "/Users/briantrippe/opt/anaconda3/lib/python3.9/site-packages/Bio/PDB/StructureBuilder.py:89: PDBConstructionWarning: WARNING: Chain C is discontinuous at line 1466.\n",
      "  warnings.warn(\n",
      "/Users/briantrippe/opt/anaconda3/lib/python3.9/site-packages/Bio/PDB/StructureBuilder.py:89: PDBConstructionWarning: WARNING: Chain A is discontinuous at line 1508.\n",
      "  warnings.warn(\n"
     ]
    },
    {
     "name": "stdout",
     "output_type": "stream",
     "text": [
      "motif segments: [{'chain': 'A', 'start': '1', 'end': '51'}]\n",
      "motif_fn: ../motif_pdbs_genie/35_1lcc.pdb\n",
      "36 5ze9,A229-243,,100\n"
     ]
    },
    {
     "name": "stderr",
     "output_type": "stream",
     "text": [
      "/Users/briantrippe/opt/anaconda3/lib/python3.9/site-packages/Bio/PDB/StructureBuilder.py:89: PDBConstructionWarning: WARNING: Chain A is discontinuous at line 50903.\n",
      "  warnings.warn(\n",
      "/Users/briantrippe/opt/anaconda3/lib/python3.9/site-packages/Bio/PDB/StructureBuilder.py:89: PDBConstructionWarning: WARNING: Chain B is discontinuous at line 50977.\n",
      "  warnings.warn(\n",
      "/Users/briantrippe/opt/anaconda3/lib/python3.9/site-packages/Bio/PDB/StructureBuilder.py:89: PDBConstructionWarning: WARNING: Chain C is discontinuous at line 51069.\n",
      "  warnings.warn(\n",
      "/Users/briantrippe/opt/anaconda3/lib/python3.9/site-packages/Bio/PDB/StructureBuilder.py:89: PDBConstructionWarning: WARNING: Chain D is discontinuous at line 51149.\n",
      "  warnings.warn(\n",
      "/Users/briantrippe/opt/anaconda3/lib/python3.9/site-packages/Bio/PDB/StructureBuilder.py:89: PDBConstructionWarning: WARNING: Chain E is discontinuous at line 51179.\n",
      "  warnings.warn(\n",
      "/Users/briantrippe/opt/anaconda3/lib/python3.9/site-packages/Bio/PDB/StructureBuilder.py:89: PDBConstructionWarning: WARNING: Chain F is discontinuous at line 51203.\n",
      "  warnings.warn(\n",
      "/Users/briantrippe/opt/anaconda3/lib/python3.9/site-packages/Bio/PDB/StructureBuilder.py:89: PDBConstructionWarning: WARNING: Chain A is discontinuous at line 51245.\n",
      "  warnings.warn(\n",
      "/Users/briantrippe/opt/anaconda3/lib/python3.9/site-packages/Bio/PDB/StructureBuilder.py:89: PDBConstructionWarning: WARNING: Chain B is discontinuous at line 51424.\n",
      "  warnings.warn(\n",
      "/Users/briantrippe/opt/anaconda3/lib/python3.9/site-packages/Bio/PDB/StructureBuilder.py:89: PDBConstructionWarning: WARNING: Chain C is discontinuous at line 51722.\n",
      "  warnings.warn(\n",
      "/Users/briantrippe/opt/anaconda3/lib/python3.9/site-packages/Bio/PDB/StructureBuilder.py:89: PDBConstructionWarning: WARNING: Chain D is discontinuous at line 52022.\n",
      "  warnings.warn(\n",
      "/Users/briantrippe/opt/anaconda3/lib/python3.9/site-packages/Bio/PDB/StructureBuilder.py:89: PDBConstructionWarning: WARNING: Chain E is discontinuous at line 52152.\n",
      "  warnings.warn(\n",
      "/Users/briantrippe/opt/anaconda3/lib/python3.9/site-packages/Bio/PDB/StructureBuilder.py:89: PDBConstructionWarning: WARNING: Chain F is discontinuous at line 52325.\n",
      "  warnings.warn(\n"
     ]
    },
    {
     "name": "stdout",
     "output_type": "stream",
     "text": [
      "motif segments: [{'chain': 'A', 'start': '229', 'end': '243'}]\n",
      "motif_fn: ../motif_pdbs_genie/36_5ze9.pdb\n",
      "37 7uwl,E63-73;E101-111,E104,175\n"
     ]
    },
    {
     "name": "stderr",
     "output_type": "stream",
     "text": [
      "/Users/briantrippe/opt/anaconda3/lib/python3.9/site-packages/Bio/PDB/StructureBuilder.py:89: PDBConstructionWarning: WARNING: Chain A is discontinuous at line 11094.\n",
      "  warnings.warn(\n",
      "/Users/briantrippe/opt/anaconda3/lib/python3.9/site-packages/Bio/PDB/StructureBuilder.py:89: PDBConstructionWarning: WARNING: Chain B is discontinuous at line 11108.\n",
      "  warnings.warn(\n",
      "/Users/briantrippe/opt/anaconda3/lib/python3.9/site-packages/Bio/PDB/StructureBuilder.py:89: PDBConstructionWarning: WARNING: Chain C is discontinuous at line 11122.\n",
      "  warnings.warn(\n",
      "/Users/briantrippe/opt/anaconda3/lib/python3.9/site-packages/Bio/PDB/StructureBuilder.py:89: PDBConstructionWarning: WARNING: Chain D is discontinuous at line 11164.\n",
      "  warnings.warn(\n",
      "/Users/briantrippe/opt/anaconda3/lib/python3.9/site-packages/Bio/PDB/StructureBuilder.py:89: PDBConstructionWarning: WARNING: Chain E is discontinuous at line 11206.\n",
      "  warnings.warn(\n",
      "/Users/briantrippe/opt/anaconda3/lib/python3.9/site-packages/Bio/PDB/StructureBuilder.py:89: PDBConstructionWarning: WARNING: Chain F is discontinuous at line 11248.\n",
      "  warnings.warn(\n"
     ]
    },
    {
     "name": "stdout",
     "output_type": "stream",
     "text": [
      "motif segments: [{'chain': 'E', 'start': '63', 'end': '73'}, {'chain': 'E', 'start': '101', 'end': '111'}]\n",
      "motif_fn: ../motif_pdbs_genie/37_7uwl.pdb\n",
      "38 7uwl,E63-73;E101-111;E132-142;E165-174,E104,175\n"
     ]
    },
    {
     "name": "stderr",
     "output_type": "stream",
     "text": [
      "/Users/briantrippe/opt/anaconda3/lib/python3.9/site-packages/Bio/PDB/StructureBuilder.py:89: PDBConstructionWarning: WARNING: Chain A is discontinuous at line 11094.\n",
      "  warnings.warn(\n",
      "/Users/briantrippe/opt/anaconda3/lib/python3.9/site-packages/Bio/PDB/StructureBuilder.py:89: PDBConstructionWarning: WARNING: Chain B is discontinuous at line 11108.\n",
      "  warnings.warn(\n",
      "/Users/briantrippe/opt/anaconda3/lib/python3.9/site-packages/Bio/PDB/StructureBuilder.py:89: PDBConstructionWarning: WARNING: Chain C is discontinuous at line 11122.\n",
      "  warnings.warn(\n",
      "/Users/briantrippe/opt/anaconda3/lib/python3.9/site-packages/Bio/PDB/StructureBuilder.py:89: PDBConstructionWarning: WARNING: Chain D is discontinuous at line 11164.\n",
      "  warnings.warn(\n",
      "/Users/briantrippe/opt/anaconda3/lib/python3.9/site-packages/Bio/PDB/StructureBuilder.py:89: PDBConstructionWarning: WARNING: Chain E is discontinuous at line 11206.\n",
      "  warnings.warn(\n",
      "/Users/briantrippe/opt/anaconda3/lib/python3.9/site-packages/Bio/PDB/StructureBuilder.py:89: PDBConstructionWarning: WARNING: Chain F is discontinuous at line 11248.\n",
      "  warnings.warn(\n"
     ]
    },
    {
     "name": "stdout",
     "output_type": "stream",
     "text": [
      "motif segments: [{'chain': 'E', 'start': '63', 'end': '73'}, {'chain': 'E', 'start': '101', 'end': '111'}, {'chain': 'E', 'start': '132', 'end': '142'}, {'chain': 'E', 'start': '165', 'end': '174'}]\n",
      "motif_fn: ../motif_pdbs_genie/38_7uwl.pdb\n",
      "39 6E6R,A23-35,A23-35,200\n",
      "motif segments: [{'chain': 'A', 'start': '23', 'end': '35'}]\n",
      "motif_fn: ../motif_pdbs_genie/39_6E6R.pdb\n",
      "40 6EXZ,A556-570,A556-570,200\n",
      "motif segments: [{'chain': 'A', 'start': '556', 'end': '570'}]\n",
      "motif_fn: ../motif_pdbs_genie/40_6EXZ.pdb\n"
     ]
    }
   ],
   "source": [
    "def save_motif_pdb_genie_format(motif_string, motif_pdb_dir=\"./motif_pdbs/\", native_pdb_dir=\"./native_pdbs/\", idx=None):\n",
    "    pdb_id, motif_residues, redesign_residues, total_length = motif_string.split(\",\")\n",
    "\n",
    "    # Load structure and parse motif into new structure\n",
    "    structure = load_pdb(pdb_id, native_pdb_dir=native_pdb_dir)\n",
    "\n",
    "    # Some pdbs have alternate conformations, which we remove.\n",
    "    structure = remove_alt_conformations(structure)\n",
    "\n",
    "    motif_segments = parse_contig_string(motif_residues)\n",
    "    redesign_segments = parse_contig_string(redesign_residues) if redesign_residues else []\n",
    "    motif_structure = parse_motif_into_new_structure(structure, motif_segments, redesign_segments)\n",
    "    print(\"motif segments:\", motif_segments)\n",
    "\n",
    "    # Save the new structure to a PDB file with a header that includes the place of the motif in the original structure.\n",
    "    header_string = f\"REMARK 999 NAME   {idx:02d}_{pdb_id}\\n\"\n",
    "    header_string += f\"REMARK 999 PDB    {pdb_id}\\n\"\n",
    "\n",
    "    terminal_segment_line =    \"REMARK 999 INPUT      0 200\\n\"\n",
    "    intervening_segment_line = \"REMARK 999 INPUT     15 200\\n\"\n",
    "    header_string += terminal_segment_line\n",
    "    for i, segment in enumerate(motif_segments):\n",
    "        motif_chain_id = motif_chain_id_order[i]\n",
    "        motif_segment_len = int(segment[\"end\"]) - int(segment[\"start\"]) + 1\n",
    "        header_string += f\"REMARK 999 INPUT  {motif_chain_id}   1{motif_segment_len:>4}\\n\"\n",
    "        \n",
    "        if i < len(motif_segments) - 1:\n",
    "            header_string += intervening_segment_line\n",
    "    header_string += terminal_segment_line\n",
    "\n",
    "    # Add total length\n",
    "    header_string += f\"REMARK 999 MINIMUM TOTAL LENGTH      {total_length:>3}\\n\"\n",
    "    header_string += f\"REMARK 999 MAXIMUM TOTAL LENGTH      {total_length:>3}\\n\"\n",
    "    header_string += \"\\n\"\n",
    "\n",
    "    motif_fn = f\"{motif_pdb_dir}{pdb_id}.pdb\"\n",
    "    if idx is not None:\n",
    "        motif_fn = f\"{motif_pdb_dir}{idx:02d}_{pdb_id}.pdb\"\n",
    "        print(\"motif_fn:\", motif_fn)\n",
    "    io = Bio.PDB.PDBIO()\n",
    "    io.set_structure(motif_structure)\n",
    "    io.save(motif_fn , AltLocSelect(), write_end=True)\n",
    "\n",
    "    # Center the motif structure on the origin.\n",
    "    center_pdb(motif_fn)\n",
    "    \n",
    "    # Prepend header_string to the new PDB file by copying the file and writing the header first.\n",
    "    with open(motif_fn, \"r\") as f: file_string = f.read()\n",
    "    with open(motif_fn, \"w\") as f: f.write(header_string + file_string)\n",
    "\n",
    "# Parse the motif specs files and save the motif PDBs.\n",
    "motif_pdb_genie_dir = \"../motif_pdbs_genie/\"\n",
    "if not os.path.exists(motif_pdb_dir): os.makedirs(motif_pdb_genie_dir)\n",
    "for motif_specs_path in motif_specs_paths:\n",
    "    with open(motif_specs_path, \"r\") as f:\n",
    "        for idx, line in enumerate(f):\n",
    "            print(f\"{idx:02d}\", line.strip())\n",
    "            save_motif_pdb_genie_format(line.strip(), motif_pdb_dir=motif_pdb_genie_dir, native_pdb_dir=native_pdb_dir, idx=idx)"
   ]
  }
 ],
 "metadata": {
  "kernelspec": {
   "display_name": "Python 3 (ipykernel)",
   "language": "python",
   "name": "python3"
  },
  "language_info": {
   "codemirror_mode": {
    "name": "ipython",
    "version": 3
   },
   "file_extension": ".py",
   "mimetype": "text/x-python",
   "name": "python",
   "nbconvert_exporter": "python",
   "pygments_lexer": "ipython3",
   "version": "3.9.7"
  }
 },
 "nbformat": 4,
 "nbformat_minor": 2
}
