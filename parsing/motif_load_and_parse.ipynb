{
 "cells": [
  {
   "cell_type": "markdown",
   "metadata": {},
   "source": [
    "# Motif specification\n",
    "Each motif string contains a pdb id, specification of motif amino acid chain and residue indexes, and specification of which of these residues may be redesigned.\n",
    "\n",
    "# Example motifs\n",
    "* \"7F7P,B32-46;A7-21,B32-46;A7-21\" --> two segments of motif. Residues 32 through 46 on chain B and residues 7 through 21 on chain A.  All positions may be redesigned.\n",
    "\n",
    "* \"4xoj,A55;A99;A190-192,A191\" --> three segments of motif.  All on chain A.  Residues 55, 99, 190, 191, and 192.  Only residue 191 may be redesigned.\n",
    "\n",
    "# Outputs\n",
    "The output of the processing is a pdb file with the coordinates of motif residues.\n",
    "* Each segment of the motif is labeled as its own chain, in order A, B, C, etc.\n",
    "* For that may be redesigned, all atoms other than N, CA, C and O are removed and the residue type is set to UNK.\n",
    "* The header of the motif includes a contig specifying how the motif is placed in the reference scaffold.\n",
    "  * Example:  consider \"4xoj,A55;A99;A190-192,A191\" the header contig should be \"38;A;43;B;90;C;46\"\n",
    "  * 4xoj has 223 resolved residues (indexed as 16 through 238), the 38 corresponds to the 38 residues 16-54 before residue 55 (segment A), the 43 corresponds to the residues between residue 55 and 99 and so on. The final 46 indicates that the reference structure terminates with 46 additional residues that are not part of the motif."
   ]
  },
  {
   "cell_type": "code",
   "execution_count": 1,
   "metadata": {},
   "outputs": [],
   "source": [
    "import os\n",
    "import shutil\n",
    "import urllib.request\n",
    "import Bio\n",
    "import numpy as np\n",
    "from Bio.PDB import PDBParser, Select\n",
    "motif_chain_id_order = \"ABCDEFGHIJKLMNOPQRSTUVWXYZ\""
   ]
  },
  {
   "cell_type": "code",
   "execution_count": 2,
   "metadata": {},
   "outputs": [],
   "source": [
    "def parse_contig_string(contig_string):\n",
    "    contig_segments = []\n",
    "    for motif_segment in contig_string.split(\";\"):\n",
    "        segment_dict ={\"chain\":motif_segment[0]}\n",
    "        if \"-\" in motif_segment:\n",
    "            segment_dict[\"start\"], segment_dict[\"end\"] = motif_segment[1:].split(\"-\")\n",
    "\n",
    "        else:\n",
    "            segment_dict[\"start\"] = segment_dict[\"end\"] = motif_segment[1:]\n",
    "        contig_segments.append(segment_dict)\n",
    "    return contig_segments\n",
    "\n",
    "def check_if_in_segment(redesign_segments, chain, residue):\n",
    "    for segment in redesign_segments:\n",
    "        if segment[\"chain\"] == chain:\n",
    "            if int(segment[\"start\"]) <= residue <= int(segment[\"end\"]):\n",
    "                return True\n",
    "    return False\n",
    "\n",
    "class AltLocSelect(Select):\n",
    "    def accept_atom(self, atom):\n",
    "        # Accept atoms with altloc 'A' or no altloc, and if occupancy is 1.0\n",
    "        return atom.altloc in ('A', ' ') and atom.occupancy == 1.0\n",
    "\n",
    "def remove_alt_conformations(structure):\n",
    "    # Remove atoms with alternate location identifiers other than 'A'\n",
    "    for model in structure:\n",
    "        for chain in model:\n",
    "            for residue in chain:\n",
    "                # Create a list of atoms to remove\n",
    "                atoms_to_remove = []\n",
    "                for atom in residue:\n",
    "                    #if atom.altloc not in ('A', ' '):\n",
    "                    if atom.get_full_id()[4][1] not in ('A', ' '):\n",
    "                        atoms_to_remove.append(atom)\n",
    "                    # Set altloc to ' ' for all atoms, and occupancy to 1.0\n",
    "                    atom.set_altloc(' ')\n",
    "                    atom.set_occupancy(1.0)\n",
    "                if atoms_to_remove:\n",
    "                    for atom in atoms_to_remove:\n",
    "                        # Before removing, check that the atom is redundant and can be removed.\n",
    "                        # Specifically, check that the atom name (e.g. CA) is the same as another atom in the residue\n",
    "                        atom_name = atom.get_name()\n",
    "                        if len([a for a in residue if a.get_name() == atom_name]) > 1:\n",
    "                            residue.detach_child(atom.id)\n",
    "    return structure"
   ]
  },
  {
   "cell_type": "code",
   "execution_count": 3,
   "metadata": {},
   "outputs": [],
   "source": [
    "# Fetch the PDB file from RCSB and parse it with BioPython\n",
    "def load_pdb(pdb_id, reference_pdb_dir=\"./reference_pdbs/\"):\n",
    "    pdb_fn = f\"{reference_pdb_dir}{pdb_id}.pdb\" # File name to save the PDB file to\n",
    "    if pdb_id != \"1QY3\":\n",
    "        urllib.request.urlretrieve(\n",
    "            f'http://files.rcsb.org/download/{pdb_id}.pdb',\n",
    "            f\"{reference_pdb_dir}{pdb_id}.pdb\")\n",
    "    else:\n",
    "        # If \"1qy3\" this is the pre-cyclized GFP, and we must used a hacked \n",
    "        # file with an A96R mutation (as described in the ESM3 paper).\n",
    "        pdb_fn = \"../test_cases/ESM3/1qy3_A96R.pdb\"\n",
    "\n",
    "    # Parse the PDB file and extract the motif segments.\n",
    "    # Then save a new pdb file with each segment concatenated, with each segment in a separate chain.\n",
    "    parser = PDBParser()\n",
    "    structure = parser.get_structure(pdb_id, pdb_fn)\n",
    "    return structure\n",
    "\n",
    "\n",
    "def parse_motif_into_new_structure(structure, motif_segments, redesign_segments):\n",
    "    # Create a new structure object to hold the motif segments\n",
    "    motif_structure = Bio.PDB.Structure.Structure(\"motif\")\n",
    "    motif_structure.add(Bio.PDB.Model.Model(0))\n",
    "\n",
    "    # Iterate through segments creating a new chain for each segment \n",
    "    for i, segment in enumerate(motif_segments):\n",
    "        motif_structure[0].add(Bio.PDB.Chain.Chain(motif_chain_id_order[i]))\n",
    "\n",
    "        # Iterate through residues in the segment and add them to the new chain.\n",
    "        for residue in structure[0][segment[\"chain\"]]:\n",
    "            if int(segment[\"start\"]) <= residue.id[1] <= int(segment[\"end\"]):\n",
    "\n",
    "                # Remove all hydrogen atoms.\n",
    "                for atom in list(residue):\n",
    "                    if atom.element == \"H\":\n",
    "                        residue.detach_child(atom.id)\n",
    "\n",
    "                # Check if the residue is in a redesign segment.\n",
    "                # If so, remove atoms except the backbone and set type to UNK.\n",
    "                if check_if_in_segment(redesign_segments, segment[\"chain\"], residue.id[1]):\n",
    "                    for atom in list(residue):\n",
    "                        if atom.id not in [\"N\", \"CA\", \"C\", \"O\"]:\n",
    "                            residue.detach_child(atom.id)\n",
    "                    residue.resname = \"UNK\"\n",
    "                \n",
    "                # Reset residue index to start from 1.\n",
    "                residue = residue.copy()\n",
    "                residue.id = (\" \", residue.id[1]-int(segment[\"start\"])+1, \" \")\n",
    "\n",
    "                # Add the residue to the new chain.\n",
    "                motif_structure[0][motif_chain_id_order[i]].add(residue)\n",
    "\n",
    "    return motif_structure\n",
    "\n",
    "\n",
    "# Center the motif structure on the origin.\n",
    "# Because of some BioPython weirdness, we have to do this manually,\n",
    "# by reading the saved pdb file and calculating the center of mass,\n",
    "# then translating the structure to the origin, and saving it again.\n",
    "def center_pdb(motif_fn):\n",
    "    # Load the motif structure from the saved pdb file.\n",
    "    parser = PDBParser()\n",
    "    motif_structure = parser.get_structure(\"motif\", motif_fn)\n",
    "\n",
    "\n",
    "    ### Translate the motif structure to the origin.\n",
    "    # Get the center of mass of the motif structure.\n",
    "    com = np.array([0., 0., 0.])\n",
    "    count = 0\n",
    "    for atom in motif_structure.get_atoms():\n",
    "        atom_vec = atom.get_vector().get_array()\n",
    "        com += atom_vec\n",
    "        count += 1\n",
    "    com = com/count\n",
    "\n",
    "    # Translate the motif structure to the origin.\n",
    "    for atom in motif_structure.get_atoms():\n",
    "        atom.set_coord(atom.get_coord() - com)\n",
    "\n",
    "    # Save the centered motif structure, overwriting the original file.\n",
    "    io = Bio.PDB.PDBIO()\n",
    "    io.set_structure(motif_structure)\n",
    "    io.save(motif_fn)"
   ]
  },
  {
   "cell_type": "code",
   "execution_count": 4,
   "metadata": {},
   "outputs": [],
   "source": [
    "def build_contig_string(structure, motif_segments):\n",
    "    # Write a contig string describing the placement of the motif in the original structure, restricting to resolved residues.\n",
    "\n",
    "    # First find the first resolved residue in the structure.\n",
    "    first_residue = None\n",
    "    motif_chain = motif_segments[0][\"chain\"]\n",
    "    for residue in structure[0][motif_chain]:\n",
    "        if residue.id[1] != \" \":\n",
    "            first_residue = residue.id[1]\n",
    "            break\n",
    "\n",
    "    # Iterate through the motif segments and compute the number of residues between them.\n",
    "    contig_string = \"\"\n",
    "    for i, segment in enumerate(motif_segments):\n",
    "        chain = motif_chain_id_order[i]\n",
    "        if i == 0:\n",
    "            contig_string += f\"{int(segment['start']) - first_residue};{chain};\"\n",
    "        else:\n",
    "            contig_string += f\"{int(segment['start']) - int(motif_segments[i-1]['end']) - 1};{chain};\"\n",
    "        if i == len(motif_segments) - 1:\n",
    "            break\n",
    "\n",
    "    # get index of last residue in the structure, excluding heteroatoms\n",
    "    chain = segment[\"chain\"]\n",
    "    last_AA_idx = 0\n",
    "    for residue in structure[0][chain]:\n",
    "        if residue.id[0] == \" \": # check that it is not a heteroatom\n",
    "            last_AA_idx = residue.id[1]\n",
    "\n",
    "    contig_string += f\"{last_AA_idx - int(segment['end'])}\"\n",
    "    return contig_string\n",
    "\n",
    "\n",
    "def save_motif_pdb(motif_string, motif_pdb_dir=\"./motif_pdbs/\", reference_pdb_dir=\"./reference_pdbs/\", idx=None):\n",
    "    pdb_id, motif_residues, redesign_residues, total_length, _ = motif_string.split(\",\")\n",
    "\n",
    "    # Load structure and parse motif into new structure\n",
    "    structure = load_pdb(pdb_id, reference_pdb_dir=reference_pdb_dir)\n",
    "\n",
    "    # Some pdbs have alternate conformations, which we remove.\n",
    "    structure = remove_alt_conformations(structure)\n",
    "\n",
    "    motif_segments = parse_contig_string(motif_residues)\n",
    "    redesign_segments = parse_contig_string(redesign_residues) if redesign_residues else []\n",
    "    motif_structure = parse_motif_into_new_structure(structure, motif_segments, redesign_segments)\n",
    "\n",
    "    # Save the new structure to a PDB file with a header that includes the place of the motif in the original structure.\n",
    "    contig_string = build_contig_string(structure, motif_segments)\n",
    "    header_string = f\"REMARK 1 Reference PDB ID: {pdb_id}\\n\"\n",
    "    header_string += f\"REMARK 2 Motif Segment Placement in Reference PDB: {contig_string}\\n\"\n",
    "    header_string += f\"REMARK 3 Length for Designed Scaffolds: {total_length}\\n\"\n",
    "\n",
    "    motif_fn = f\"{motif_pdb_dir}{pdb_id}.pdb\"\n",
    "    if idx is not None:\n",
    "        motif_fn = f\"{motif_pdb_dir}{idx:02d}_{pdb_id}.pdb\"\n",
    "        print(\"motif_fn:\", motif_fn)\n",
    "    io = Bio.PDB.PDBIO()\n",
    "    io.set_structure(motif_structure)\n",
    "    io.save(motif_fn , AltLocSelect(), write_end=True)\n",
    "\n",
    "    # Center the motif structure on the origin.\n",
    "    center_pdb(motif_fn)\n",
    "    \n",
    "    # Prepend header_string to the new PDB file by copying the file and writing the header first.\n",
    "    with open(motif_fn, \"r\") as f: file_string = f.read()\n",
    "    with open(motif_fn, \"w\") as f: f.write(header_string + file_string)"
   ]
  },
  {
   "cell_type": "code",
   "execution_count": 5,
   "metadata": {},
   "outputs": [
    {
     "name": "stdout",
     "output_type": "stream",
     "text": [
      "01 1BCF,A18-25;A47-54;A92-99;A123-130,A19-25;A47-50;A52-53;A92-93;A95-99;A123-126;A128-129,125,1\n"
     ]
    },
    {
     "name": "stderr",
     "output_type": "stream",
     "text": [
      "/Users/briantrippe/opt/anaconda3/lib/python3.9/site-packages/Bio/PDB/StructureBuilder.py:89: PDBConstructionWarning: WARNING: Chain A is discontinuous at line 17010.\n",
      "  warnings.warn(\n",
      "/Users/briantrippe/opt/anaconda3/lib/python3.9/site-packages/Bio/PDB/StructureBuilder.py:89: PDBConstructionWarning: WARNING: Chain B is discontinuous at line 17055.\n",
      "  warnings.warn(\n",
      "/Users/briantrippe/opt/anaconda3/lib/python3.9/site-packages/Bio/PDB/StructureBuilder.py:89: PDBConstructionWarning: WARNING: Chain C is discontinuous at line 17057.\n",
      "  warnings.warn(\n",
      "/Users/briantrippe/opt/anaconda3/lib/python3.9/site-packages/Bio/PDB/StructureBuilder.py:89: PDBConstructionWarning: WARNING: Chain D is discontinuous at line 17102.\n",
      "  warnings.warn(\n",
      "/Users/briantrippe/opt/anaconda3/lib/python3.9/site-packages/Bio/PDB/StructureBuilder.py:89: PDBConstructionWarning: WARNING: Chain E is discontinuous at line 17104.\n",
      "  warnings.warn(\n",
      "/Users/briantrippe/opt/anaconda3/lib/python3.9/site-packages/Bio/PDB/StructureBuilder.py:89: PDBConstructionWarning: WARNING: Chain F is discontinuous at line 17149.\n",
      "  warnings.warn(\n",
      "/Users/briantrippe/opt/anaconda3/lib/python3.9/site-packages/Bio/PDB/StructureBuilder.py:89: PDBConstructionWarning: WARNING: Chain G is discontinuous at line 17151.\n",
      "  warnings.warn(\n",
      "/Users/briantrippe/opt/anaconda3/lib/python3.9/site-packages/Bio/PDB/StructureBuilder.py:89: PDBConstructionWarning: WARNING: Chain H is discontinuous at line 17196.\n",
      "  warnings.warn(\n",
      "/Users/briantrippe/opt/anaconda3/lib/python3.9/site-packages/Bio/PDB/StructureBuilder.py:89: PDBConstructionWarning: WARNING: Chain I is discontinuous at line 17198.\n",
      "  warnings.warn(\n",
      "/Users/briantrippe/opt/anaconda3/lib/python3.9/site-packages/Bio/PDB/StructureBuilder.py:89: PDBConstructionWarning: WARNING: Chain J is discontinuous at line 17243.\n",
      "  warnings.warn(\n",
      "/Users/briantrippe/opt/anaconda3/lib/python3.9/site-packages/Bio/PDB/StructureBuilder.py:89: PDBConstructionWarning: WARNING: Chain K is discontinuous at line 17245.\n",
      "  warnings.warn(\n",
      "/Users/briantrippe/opt/anaconda3/lib/python3.9/site-packages/Bio/PDB/StructureBuilder.py:89: PDBConstructionWarning: WARNING: Chain L is discontinuous at line 17290.\n",
      "  warnings.warn(\n"
     ]
    },
    {
     "name": "stdout",
     "output_type": "stream",
     "text": [
      "motif_fn: ../motif_pdbs/01_1BCF.pdb\n",
      "02 1YOV,B213-223,,75,1\n"
     ]
    },
    {
     "name": "stderr",
     "output_type": "stream",
     "text": [
      "/Users/briantrippe/opt/anaconda3/lib/python3.9/site-packages/Bio/PDB/StructureBuilder.py:89: PDBConstructionWarning: WARNING: Chain B is discontinuous at line 15357.\n",
      "  warnings.warn(\n",
      "/Users/briantrippe/opt/anaconda3/lib/python3.9/site-packages/Bio/PDB/StructureBuilder.py:89: PDBConstructionWarning: WARNING: Chain D is discontinuous at line 15358.\n",
      "  warnings.warn(\n",
      "/Users/briantrippe/opt/anaconda3/lib/python3.9/site-packages/Bio/PDB/StructureBuilder.py:89: PDBConstructionWarning: WARNING: Chain A is discontinuous at line 15359.\n",
      "  warnings.warn(\n",
      "/Users/briantrippe/opt/anaconda3/lib/python3.9/site-packages/Bio/PDB/StructureBuilder.py:89: PDBConstructionWarning: WARNING: Chain B is discontinuous at line 15412.\n",
      "  warnings.warn(\n",
      "/Users/briantrippe/opt/anaconda3/lib/python3.9/site-packages/Bio/PDB/StructureBuilder.py:89: PDBConstructionWarning: WARNING: Chain C is discontinuous at line 15474.\n",
      "  warnings.warn(\n",
      "/Users/briantrippe/opt/anaconda3/lib/python3.9/site-packages/Bio/PDB/StructureBuilder.py:89: PDBConstructionWarning: WARNING: Chain D is discontinuous at line 15493.\n",
      "  warnings.warn(\n"
     ]
    },
    {
     "name": "stdout",
     "output_type": "stream",
     "text": [
      "motif_fn: ../motif_pdbs/02_1YOV.pdb\n",
      "03 2KL8,A1-7;A28-79,,100,1\n",
      "motif_fn: ../motif_pdbs/03_2KL8.pdb\n",
      "04 6E6R,A23-35,A23-35,75,1\n",
      "motif_fn: ../motif_pdbs/04_6E6R.pdb\n",
      "05 6E6R,A23-35,A23-35,200,1\n",
      "motif_fn: ../motif_pdbs/05_6E6R.pdb\n",
      "06 6EXZ,A556-570,A556-570,100,1\n",
      "motif_fn: ../motif_pdbs/06_6EXZ.pdb\n",
      "07 6EXZ,A556-570,A556-570,200,1\n",
      "motif_fn: ../motif_pdbs/07_6EXZ.pdb\n",
      "08 1ITU,A124-147,,150,2\n"
     ]
    },
    {
     "name": "stderr",
     "output_type": "stream",
     "text": [
      "/Users/briantrippe/opt/anaconda3/lib/python3.9/site-packages/Bio/PDB/StructureBuilder.py:89: PDBConstructionWarning: WARNING: Chain A is discontinuous at line 6323.\n",
      "  warnings.warn(\n",
      "/Users/briantrippe/opt/anaconda3/lib/python3.9/site-packages/Bio/PDB/StructureBuilder.py:89: PDBConstructionWarning: WARNING: Chain B is discontinuous at line 6369.\n",
      "  warnings.warn(\n",
      "/Users/briantrippe/opt/anaconda3/lib/python3.9/site-packages/Bio/PDB/StructureBuilder.py:89: PDBConstructionWarning: WARNING: Chain A is discontinuous at line 6415.\n",
      "  warnings.warn(\n",
      "/Users/briantrippe/opt/anaconda3/lib/python3.9/site-packages/Bio/PDB/StructureBuilder.py:89: PDBConstructionWarning: WARNING: Chain B is discontinuous at line 6754.\n",
      "  warnings.warn(\n"
     ]
    },
    {
     "name": "stdout",
     "output_type": "stream",
     "text": [
      "motif_fn: ../motif_pdbs/08_1ITU.pdb\n",
      "09 1LDB,A186-206,,125,2\n"
     ]
    },
    {
     "name": "stderr",
     "output_type": "stream",
     "text": [
      "/Users/briantrippe/opt/anaconda3/lib/python3.9/site-packages/Bio/PDB/StructureBuilder.py:89: PDBConstructionWarning: WARNING: Chain A is discontinuous at line 9678.\n",
      "  warnings.warn(\n"
     ]
    },
    {
     "name": "stdout",
     "output_type": "stream",
     "text": [
      "motif_fn: ../motif_pdbs/09_1LDB.pdb\n",
      "10 5IUS,A63-82;A119-140,A63;A65;A67;A69;A71-72;A76;A79-80;A82;A119-123;A125;A127;A129-130;A133;A135;A137-138;A140,100,2\n"
     ]
    },
    {
     "name": "stderr",
     "output_type": "stream",
     "text": [
      "/Users/briantrippe/opt/anaconda3/lib/python3.9/site-packages/Bio/PDB/StructureBuilder.py:89: PDBConstructionWarning: WARNING: Chain A is discontinuous at line 11148.\n",
      "  warnings.warn(\n",
      "/Users/briantrippe/opt/anaconda3/lib/python3.9/site-packages/Bio/PDB/StructureBuilder.py:89: PDBConstructionWarning: WARNING: Chain B is discontinuous at line 11155.\n",
      "  warnings.warn(\n",
      "/Users/briantrippe/opt/anaconda3/lib/python3.9/site-packages/Bio/PDB/StructureBuilder.py:89: PDBConstructionWarning: WARNING: Chain C is discontinuous at line 11161.\n",
      "  warnings.warn(\n",
      "/Users/briantrippe/opt/anaconda3/lib/python3.9/site-packages/Bio/PDB/StructureBuilder.py:89: PDBConstructionWarning: WARNING: Chain D is discontinuous at line 11174.\n",
      "  warnings.warn(\n"
     ]
    },
    {
     "name": "stdout",
     "output_type": "stream",
     "text": [
      "motif_fn: ../motif_pdbs/10_5IUS.pdb\n",
      "11 5WN9,A170-189,A170-175;A188-189,75,2\n"
     ]
    },
    {
     "name": "stderr",
     "output_type": "stream",
     "text": [
      "/Users/briantrippe/opt/anaconda3/lib/python3.9/site-packages/Bio/PDB/StructureBuilder.py:89: PDBConstructionWarning: WARNING: Chain H is discontinuous at line 6270.\n",
      "  warnings.warn(\n",
      "/Users/briantrippe/opt/anaconda3/lib/python3.9/site-packages/Bio/PDB/StructureBuilder.py:89: PDBConstructionWarning: WARNING: Chain A is discontinuous at line 6375.\n",
      "  warnings.warn(\n"
     ]
    },
    {
     "name": "stdout",
     "output_type": "stream",
     "text": [
      "motif_fn: ../motif_pdbs/11_5WN9.pdb\n",
      "12 5YUI,A93-97;A118-120;A198-200,A93;A95;A97;A118;A120,75,2\n",
      "motif_fn: ../motif_pdbs/12_5YUI.pdb\n",
      "13 7A8S,A41-55;A72-86,,100,2\n",
      "motif_fn: ../motif_pdbs/13_7A8S.pdb\n",
      "14 7AHO,A199-213,,125,2\n"
     ]
    },
    {
     "name": "stderr",
     "output_type": "stream",
     "text": [
      "/Users/briantrippe/opt/anaconda3/lib/python3.9/site-packages/Bio/PDB/StructureBuilder.py:89: PDBConstructionWarning: WARNING: Chain A is discontinuous at line 15317.\n",
      "  warnings.warn(\n",
      "/Users/briantrippe/opt/anaconda3/lib/python3.9/site-packages/Bio/PDB/StructureBuilder.py:89: PDBConstructionWarning: WARNING: Chain B is discontinuous at line 15344.\n",
      "  warnings.warn(\n",
      "/Users/briantrippe/opt/anaconda3/lib/python3.9/site-packages/Bio/PDB/StructureBuilder.py:89: PDBConstructionWarning: WARNING: Chain C is discontinuous at line 15371.\n",
      "  warnings.warn(\n"
     ]
    },
    {
     "name": "stdout",
     "output_type": "stream",
     "text": [
      "motif_fn: ../motif_pdbs/14_7AHO.pdb\n",
      "15 7BNY,A83-97;A111-125,,125,2\n"
     ]
    },
    {
     "name": "stderr",
     "output_type": "stream",
     "text": [
      "/Users/briantrippe/opt/anaconda3/lib/python3.9/site-packages/Bio/PDB/StructureBuilder.py:89: PDBConstructionWarning: WARNING: Chain A is discontinuous at line 9478.\n",
      "  warnings.warn(\n",
      "/Users/briantrippe/opt/anaconda3/lib/python3.9/site-packages/Bio/PDB/StructureBuilder.py:89: PDBConstructionWarning: WARNING: Chain B is discontinuous at line 9493.\n",
      "  warnings.warn(\n",
      "/Users/briantrippe/opt/anaconda3/lib/python3.9/site-packages/Bio/PDB/StructureBuilder.py:89: PDBConstructionWarning: WARNING: Chain C is discontinuous at line 9508.\n",
      "  warnings.warn(\n",
      "/Users/briantrippe/opt/anaconda3/lib/python3.9/site-packages/Bio/PDB/StructureBuilder.py:89: PDBConstructionWarning: WARNING: Chain D is discontinuous at line 9513.\n",
      "  warnings.warn(\n",
      "/Users/briantrippe/opt/anaconda3/lib/python3.9/site-packages/Bio/PDB/StructureBuilder.py:89: PDBConstructionWarning: WARNING: Chain A is discontinuous at line 9523.\n",
      "  warnings.warn(\n",
      "/Users/briantrippe/opt/anaconda3/lib/python3.9/site-packages/Bio/PDB/StructureBuilder.py:89: PDBConstructionWarning: WARNING: Chain B is discontinuous at line 9579.\n",
      "  warnings.warn(\n",
      "/Users/briantrippe/opt/anaconda3/lib/python3.9/site-packages/Bio/PDB/StructureBuilder.py:89: PDBConstructionWarning: WARNING: Chain C is discontinuous at line 9624.\n",
      "  warnings.warn(\n",
      "/Users/briantrippe/opt/anaconda3/lib/python3.9/site-packages/Bio/PDB/StructureBuilder.py:89: PDBConstructionWarning: WARNING: Chain D is discontinuous at line 9650.\n",
      "  warnings.warn(\n"
     ]
    },
    {
     "name": "stdout",
     "output_type": "stream",
     "text": [
      "motif_fn: ../motif_pdbs/15_7BNY.pdb\n",
      "16 7DGW,A22-36;A70-84,,125,2\n",
      "motif_fn: ../motif_pdbs/16_7DGW.pdb\n",
      "17 7MQQ,A80-94;A115-129,,125,2\n",
      "motif_fn: ../motif_pdbs/17_7MQQ.pdb\n",
      "18 1B73,A7-8;A70;A178-180,A179,125,3\n",
      "motif_fn: ../motif_pdbs/18_1B73.pdb\n",
      "19 1LCC,A1-51,,150,3\n"
     ]
    },
    {
     "name": "stderr",
     "output_type": "stream",
     "text": [
      "/Users/briantrippe/opt/anaconda3/lib/python3.9/site-packages/Bio/PDB/StructureBuilder.py:89: PDBConstructionWarning: WARNING: Chain C is discontinuous at line 1429.\n",
      "  warnings.warn(\n",
      "/Users/briantrippe/opt/anaconda3/lib/python3.9/site-packages/Bio/PDB/StructureBuilder.py:89: PDBConstructionWarning: WARNING: Chain B is discontinuous at line 1430.\n",
      "  warnings.warn(\n",
      "/Users/briantrippe/opt/anaconda3/lib/python3.9/site-packages/Bio/PDB/StructureBuilder.py:89: PDBConstructionWarning: WARNING: Chain C is discontinuous at line 1466.\n",
      "  warnings.warn(\n",
      "/Users/briantrippe/opt/anaconda3/lib/python3.9/site-packages/Bio/PDB/StructureBuilder.py:89: PDBConstructionWarning: WARNING: Chain A is discontinuous at line 1508.\n",
      "  warnings.warn(\n"
     ]
    },
    {
     "name": "stdout",
     "output_type": "stream",
     "text": [
      "motif_fn: ../motif_pdbs/19_1LCC.pdb\n",
      "20 1MPY,A153;A199;A214;A246;A255;A265,,125,3\n"
     ]
    },
    {
     "name": "stderr",
     "output_type": "stream",
     "text": [
      "/Users/briantrippe/opt/anaconda3/lib/python3.9/site-packages/Bio/PDB/StructureBuilder.py:89: PDBConstructionWarning: WARNING: Chain A is discontinuous at line 10615.\n",
      "  warnings.warn(\n",
      "/Users/briantrippe/opt/anaconda3/lib/python3.9/site-packages/Bio/PDB/StructureBuilder.py:89: PDBConstructionWarning: WARNING: Chain B is discontinuous at line 10620.\n",
      "  warnings.warn(\n",
      "/Users/briantrippe/opt/anaconda3/lib/python3.9/site-packages/Bio/PDB/StructureBuilder.py:89: PDBConstructionWarning: WARNING: Chain C is discontinuous at line 10625.\n",
      "  warnings.warn(\n",
      "/Users/briantrippe/opt/anaconda3/lib/python3.9/site-packages/Bio/PDB/StructureBuilder.py:89: PDBConstructionWarning: WARNING: Chain D is discontinuous at line 10630.\n",
      "  warnings.warn(\n",
      "/Users/briantrippe/opt/anaconda3/lib/python3.9/site-packages/Bio/PDB/StructureBuilder.py:89: PDBConstructionWarning: WARNING: Chain A is discontinuous at line 10635.\n",
      "  warnings.warn(\n",
      "/Users/briantrippe/opt/anaconda3/lib/python3.9/site-packages/Bio/PDB/StructureBuilder.py:89: PDBConstructionWarning: WARNING: Chain B is discontinuous at line 10667.\n",
      "  warnings.warn(\n",
      "/Users/briantrippe/opt/anaconda3/lib/python3.9/site-packages/Bio/PDB/StructureBuilder.py:89: PDBConstructionWarning: WARNING: Chain C is discontinuous at line 10691.\n",
      "  warnings.warn(\n",
      "/Users/briantrippe/opt/anaconda3/lib/python3.9/site-packages/Bio/PDB/StructureBuilder.py:89: PDBConstructionWarning: WARNING: Chain D is discontinuous at line 10714.\n",
      "  warnings.warn(\n"
     ]
    },
    {
     "name": "stdout",
     "output_type": "stream",
     "text": [
      "motif_fn: ../motif_pdbs/20_1MPY.pdb\n",
      "21 1QY3,A58-71;A96;A222,A58-61;A63-64;A68-71,225,3\n",
      "motif_fn: ../motif_pdbs/21_1QY3.pdb\n",
      "22 2RKX,A9-11;A48-50;A101;A128;A169;A176;A201;A222-224,A10;A49;A223,225,3\n",
      "motif_fn: ../motif_pdbs/22_2RKX.pdb\n",
      "23 3B5V,A51-53;A81;A110;A131;A159;A180-184;A210-211;A231-233,A52;A181;A183;A232,200,3\n",
      "motif_fn: ../motif_pdbs/23_3B5V.pdb\n",
      "24 4JHW,F63-69;F196-212,F63;F69;F196;F198;F203;F211-212,125,3\n",
      "motif_fn: ../motif_pdbs/24_4JHW.pdb\n",
      "25 4XOJ,A55;A99;A190-192,A191,150,3\n",
      "motif_fn: ../motif_pdbs/25_4XOJ.pdb\n",
      "26 6CPA,A69-72;A127;A196;A248;A270,A70-71,200,3\n"
     ]
    },
    {
     "name": "stderr",
     "output_type": "stream",
     "text": [
      "/Users/briantrippe/opt/anaconda3/lib/python3.9/site-packages/Bio/PDB/StructureBuilder.py:89: PDBConstructionWarning: WARNING: Chain A is discontinuous at line 4414.\n",
      "  warnings.warn(\n",
      "/Users/briantrippe/opt/anaconda3/lib/python3.9/site-packages/Bio/PDB/StructureBuilder.py:89: PDBConstructionWarning: WARNING: Chain B is discontinuous at line 5286.\n",
      "  warnings.warn(\n"
     ]
    },
    {
     "name": "stdout",
     "output_type": "stream",
     "text": [
      "motif_fn: ../motif_pdbs/26_6CPA.pdb\n",
      "27 7AD5,A99-113,,125,3\n",
      "motif_fn: ../motif_pdbs/27_7AD5.pdb\n",
      "28 7WRK,A80-94,,125,3\n",
      "motif_fn: ../motif_pdbs/28_7WRK.pdb\n",
      "29 7UWL,E63-73;E101-111,E63-73;E101-103;E105-111,175,3\n"
     ]
    },
    {
     "name": "stderr",
     "output_type": "stream",
     "text": [
      "/Users/briantrippe/opt/anaconda3/lib/python3.9/site-packages/Bio/PDB/StructureBuilder.py:89: PDBConstructionWarning: WARNING: Chain A is discontinuous at line 11094.\n",
      "  warnings.warn(\n",
      "/Users/briantrippe/opt/anaconda3/lib/python3.9/site-packages/Bio/PDB/StructureBuilder.py:89: PDBConstructionWarning: WARNING: Chain B is discontinuous at line 11108.\n",
      "  warnings.warn(\n",
      "/Users/briantrippe/opt/anaconda3/lib/python3.9/site-packages/Bio/PDB/StructureBuilder.py:89: PDBConstructionWarning: WARNING: Chain C is discontinuous at line 11122.\n",
      "  warnings.warn(\n",
      "/Users/briantrippe/opt/anaconda3/lib/python3.9/site-packages/Bio/PDB/StructureBuilder.py:89: PDBConstructionWarning: WARNING: Chain D is discontinuous at line 11164.\n",
      "  warnings.warn(\n",
      "/Users/briantrippe/opt/anaconda3/lib/python3.9/site-packages/Bio/PDB/StructureBuilder.py:89: PDBConstructionWarning: WARNING: Chain E is discontinuous at line 11206.\n",
      "  warnings.warn(\n",
      "/Users/briantrippe/opt/anaconda3/lib/python3.9/site-packages/Bio/PDB/StructureBuilder.py:89: PDBConstructionWarning: WARNING: Chain F is discontinuous at line 11248.\n",
      "  warnings.warn(\n"
     ]
    },
    {
     "name": "stdout",
     "output_type": "stream",
     "text": [
      "motif_fn: ../motif_pdbs/29_7UWL.pdb\n",
      "30 7UWL,E63-73;E101-111;E132-142;E165-174,E63-73;E101-103;E105-111;E132-142;E165-174,175,3\n",
      "motif_fn: ../motif_pdbs/30_7UWL.pdb\n"
     ]
    },
    {
     "name": "stderr",
     "output_type": "stream",
     "text": [
      "/Users/briantrippe/opt/anaconda3/lib/python3.9/site-packages/Bio/PDB/StructureBuilder.py:89: PDBConstructionWarning: WARNING: Chain A is discontinuous at line 11094.\n",
      "  warnings.warn(\n",
      "/Users/briantrippe/opt/anaconda3/lib/python3.9/site-packages/Bio/PDB/StructureBuilder.py:89: PDBConstructionWarning: WARNING: Chain B is discontinuous at line 11108.\n",
      "  warnings.warn(\n",
      "/Users/briantrippe/opt/anaconda3/lib/python3.9/site-packages/Bio/PDB/StructureBuilder.py:89: PDBConstructionWarning: WARNING: Chain C is discontinuous at line 11122.\n",
      "  warnings.warn(\n",
      "/Users/briantrippe/opt/anaconda3/lib/python3.9/site-packages/Bio/PDB/StructureBuilder.py:89: PDBConstructionWarning: WARNING: Chain D is discontinuous at line 11164.\n",
      "  warnings.warn(\n",
      "/Users/briantrippe/opt/anaconda3/lib/python3.9/site-packages/Bio/PDB/StructureBuilder.py:89: PDBConstructionWarning: WARNING: Chain E is discontinuous at line 11206.\n",
      "  warnings.warn(\n",
      "/Users/briantrippe/opt/anaconda3/lib/python3.9/site-packages/Bio/PDB/StructureBuilder.py:89: PDBConstructionWarning: WARNING: Chain F is discontinuous at line 11248.\n",
      "  warnings.warn(\n"
     ]
    }
   ],
   "source": [
    "motif_specs_paths = [\n",
    "    #\"../test_cases/rfdiffusion_benchmark/motif_specs.csv\",\n",
    "    #\"../test_cases/orphans/motif_specs.csv\",\n",
    "    #\"../test_cases/other_enzymes/motif_specs.csv\",\n",
    "    #\"../test_cases/ESM3/motif_specs.csv\"\n",
    "    \"../motif_specs.csv\"\n",
    "]\n",
    "\n",
    "# Make sure the motif_pdb_dir and reference_pdb_dir directories exist.\n",
    "motif_pdb_dir = \"../motif_pdbs/\"\n",
    "if not os.path.exists(motif_pdb_dir): os.makedirs(motif_pdb_dir)\n",
    "\n",
    "reference_pdb_dir = \"../reference_pdbs/\"\n",
    "if not os.path.exists(reference_pdb_dir): os.makedirs(reference_pdb_dir)\n",
    "\n",
    "# Parse the motif specs files and save the motif PDBs.\n",
    "for motif_specs_path in motif_specs_paths:\n",
    "    with open(motif_specs_path, \"r\") as f:\n",
    "        f.readline() # header\n",
    "        for idx, line in enumerate(f):\n",
    "            print(f\"{idx+1:02d}\", line.strip())\n",
    "            save_motif_pdb(line.strip(), motif_pdb_dir=motif_pdb_dir, reference_pdb_dir=reference_pdb_dir, idx=idx+1)"
   ]
  },
  {
   "cell_type": "code",
   "execution_count": 6,
   "metadata": {},
   "outputs": [],
   "source": [
    "def remove_lagging_characters(filepath):\n",
    "    # Ensure it's a file (not a directory or other object)\n",
    "    if os.path.isfile(filepath):\n",
    "        with open(filepath, 'r') as file:\n",
    "            lines = file.readlines()\n",
    "        \n",
    "        # Process lines to modify \"TER\" lines\n",
    "        modified_lines = []\n",
    "        for line in lines:\n",
    "            if line.startswith(\"TER\"):\n",
    "                modified_lines.append(\"TER\\n\")\n",
    "            else:\n",
    "                modified_lines.append(line)\n",
    "        \n",
    "        # Write the modified lines back to the file\n",
    "        with open(filepath, 'w') as file:\n",
    "            file.writelines(modified_lines)\n",
    "def set_bfactor_to_zero(input_pdb):\n",
    "    \"\"\"\n",
    "    Reads a PDB file, sets the B-factor value to zero for every atom, and writes the result to a new file.\n",
    "\n",
    "    Parameters:\n",
    "        input_pdb (str): Path to the input PDB file.\n",
    "        output_pdb (str): Path to the output PDB file.\n",
    "    \"\"\"\n",
    "    tmp_fn = input_pdb + \".tmp\"\n",
    "    with open(input_pdb, 'r') as infile, open(tmp_fn, 'w') as outfile:\n",
    "        for line in infile:\n",
    "            # Process only ATOM and HETATM lines\n",
    "            if line.startswith(('ATOM', 'HETATM')):\n",
    "                # B-factor is in columns 61-66 (1-based indexing)\n",
    "                modified_line = line[:60] + f\"{0.00:6.2f}\" + line[66:]\n",
    "                outfile.write(modified_line)\n",
    "            else:\n",
    "                # Write non-ATOM lines unchanged\n",
    "                outfile.write(line)\n",
    "    shutil.move(tmp_fn, input_pdb)"
   ]
  },
  {
   "cell_type": "code",
   "execution_count": 7,
   "metadata": {},
   "outputs": [],
   "source": [
    "# Loop through all files in motif_pdb_dir and cut lagging text after \"TER\" lines.\n",
    "for filename in os.listdir(motif_pdb_dir):\n",
    "    filepath = os.path.join(motif_pdb_dir, filename)\n",
    "    remove_lagging_characters(filepath)\n",
    "    set_bfactor_to_zero(filepath)"
   ]
  },
  {
   "cell_type": "code",
   "execution_count": 8,
   "metadata": {},
   "outputs": [],
   "source": [
    "def save_motif_pdb_genie_format(motif_string, motif_pdb_dir=\"./motif_pdbs/\", reference_pdb_dir=\"./reference_pdbs/\", idx=None):\n",
    "    pdb_id, motif_residues, redesign_residues, total_length = motif_string.split(\",\")\n",
    "\n",
    "    # Load structure and parse motif into new structure\n",
    "    structure = load_pdb(pdb_id, reference_pdb_dir=reference_pdb_dir)\n",
    "\n",
    "    # Some pdbs have alternate conformations, which we remove.\n",
    "    structure = remove_alt_conformations(structure)\n",
    "\n",
    "    motif_segments = parse_contig_string(motif_residues)\n",
    "    redesign_segments = parse_contig_string(redesign_residues) if redesign_residues else []\n",
    "    motif_structure = parse_motif_into_new_structure(structure, motif_segments, redesign_segments)\n",
    "    print(\"motif segments:\", motif_segments)\n",
    "\n",
    "    # Save the new structure to a PDB file with a header that includes the place of the motif in the original structure.\n",
    "    header_string = f\"REMARK 999 NAME   {idx:02d}_{pdb_id}\\n\"\n",
    "    header_string += f\"REMARK 999 PDB    {pdb_id}\\n\"\n",
    "\n",
    "    terminal_segment_line =    \"REMARK 999 INPUT      0 200\\n\"\n",
    "    intervening_segment_line = \"REMARK 999 INPUT     15 200\\n\"\n",
    "    header_string += terminal_segment_line\n",
    "    for i, segment in enumerate(motif_segments):\n",
    "        motif_chain_id = motif_chain_id_order[i]\n",
    "        motif_segment_len = int(segment[\"end\"]) - int(segment[\"start\"]) + 1\n",
    "        header_string += f\"REMARK 999 INPUT  {motif_chain_id}   1{motif_segment_len:>4}\\n\"\n",
    "        \n",
    "        if i < len(motif_segments) - 1:\n",
    "            header_string += intervening_segment_line\n",
    "    header_string += terminal_segment_line\n",
    "\n",
    "    # Add total length\n",
    "    header_string += f\"REMARK 999 MINIMUM TOTAL LENGTH      {total_length:>3}\\n\"\n",
    "    header_string += f\"REMARK 999 MAXIMUM TOTAL LENGTH      {total_length:>3}\\n\"\n",
    "    header_string += \"\\n\"\n",
    "\n",
    "    motif_fn = f\"{motif_pdb_dir}{pdb_id}.pdb\"\n",
    "    if idx is not None:\n",
    "        motif_fn = f\"{motif_pdb_dir}{idx:02d}_{pdb_id}.pdb\"\n",
    "        print(\"motif_fn:\", motif_fn)\n",
    "    io = Bio.PDB.PDBIO()\n",
    "    io.set_structure(motif_structure)\n",
    "    io.save(motif_fn , AltLocSelect(), write_end=True)\n",
    "\n",
    "    # Center the motif structure on the origin.\n",
    "    center_pdb(motif_fn)\n",
    "    \n",
    "    # Prepend header_string to the new PDB file by copying the file and writing the header first.\n",
    "    with open(motif_fn, \"r\") as f: file_string = f.read()\n",
    "    with open(motif_fn, \"w\") as f: f.write(header_string + file_string)\n",
    "\n",
    "if False:\n",
    "    # Parse the motif specs files and save the motif PDBs.\n",
    "    motif_pdb_genie_dir = \"../motif_pdbs_genie/\"\n",
    "    if not os.path.exists(motif_pdb_dir): os.makedirs(motif_pdb_genie_dir)\n",
    "    for motif_specs_path in motif_specs_paths:\n",
    "        with open(motif_specs_path, \"r\") as f:\n",
    "            for idx, line in enumerate(f):\n",
    "                print(f\"{idx:02d}\", line.strip())\n",
    "                save_motif_pdb_genie_format(line.strip(), motif_pdb_dir=motif_pdb_genie_dir, reference_pdb_dir=reference_pdb_dir, idx=idx)"
   ]
  },
  {
   "cell_type": "code",
   "execution_count": 11,
   "metadata": {},
   "outputs": [],
   "source": [
    "from Bio.PDB import Structure, Model, Chain, Residue\n",
    "\n",
    "def create_processed_structure(structure, motif_segments, redesign_segments):\n",
    "    # Create a new structure object to hold the processed structure\n",
    "    processed_structure = Structure.Structure(\"processed_structure\")\n",
    "    model = Model.Model(0)\n",
    "    processed_structure.add(model)\n",
    "\n",
    "    # Create a new chain \"A\" for the processed structure\n",
    "    new_chain = Chain.Chain(\"A\")\n",
    "    model.add(new_chain)\n",
    "\n",
    "    # Create a set of residues that are within motif segments for easy reference\n",
    "    motif_residues = set()\n",
    "    for segment in motif_segments:\n",
    "        motif_residues.update(\n",
    "            (segment[\"chain\"], res_id)\n",
    "            for res_id in range(int(segment[\"start\"]), int(segment[\"end\"]) + 1)\n",
    "        )\n",
    "\n",
    "    # Copy residues from the original chain, adjusting B-factors and residue types\n",
    "    for chain in structure[0]:  # Access the first model in the structure\n",
    "        if not chain.id == motif_segments[0]['chain']:\n",
    "            continue\n",
    "        for residue in chain.get_residues():\n",
    "            chain_id = chain.id\n",
    "            res_id = residue.id[1]\n",
    "                        \n",
    "            # Skip if residue is a heteroatom\n",
    "            if residue.id[0] != \" \":\n",
    "                continue\n",
    "\n",
    "            for atom in list(residue):\n",
    "                if atom.id not in [\"N\", \"CA\", \"C\", \"O\"]:\n",
    "                    residue.detach_child(atom.id)\n",
    "\n",
    "            # Determine if the residue is in motif segments\n",
    "            if check_if_in_segment(motif_segments, chain_id, res_id):\n",
    "                # Copy the residue, set B-factor to 1, and retain the original residue type\n",
    "                new_residue = residue.copy()\n",
    "                for atom in new_residue:\n",
    "                    atom.bfactor = 1.0\n",
    "            else:\n",
    "                # Copy the residue, set B-factor to 0, and set type to GLY\n",
    "                new_residue = residue.copy()\n",
    "                for atom in new_residue:\n",
    "                    atom.bfactor = 0.0\n",
    "                new_residue.resname = \"GLY\"\n",
    "\n",
    "            # Check if the residue is in redesign segments and set to UNK if so\n",
    "            if check_if_in_segment(redesign_segments, chain_id, res_id):\n",
    "                new_residue.resname = \"UNK\"\n",
    "\n",
    "            # Add the modified residue to the new chain with chain \"A\"\n",
    "            new_chain.add(new_residue)\n",
    "\n",
    "    return processed_structure\n",
    "\n",
    "def save_processed_pdb(motif_string, processed_pdb_dir=\"./processed_pdbs/\", reference_pdb_dir=\"./reference_pdbs/\", idx=None):\n",
    "    pdb_id, motif_residues, redesign_residues, total_length, _ = motif_string.split(\",\")\n",
    "    print(\"PDBID:\", pdb_id)\n",
    "\n",
    "    # Load structure and parse motif into new structure\n",
    "    structure = load_pdb(pdb_id, reference_pdb_dir=reference_pdb_dir)\n",
    "\n",
    "    # Some pdbs have alternate conformations, which we remove.\n",
    "    structure = remove_alt_conformations(structure)\n",
    "\n",
    "    motif_segments = parse_contig_string(motif_residues)\n",
    "    redesign_segments = parse_contig_string(redesign_residues) if redesign_residues else []\n",
    "    processed_structure = create_processed_structure(structure, motif_segments, redesign_segments)\n",
    "    \n",
    "    processed_pdb_dir_pdb = processed_pdb_dir + f\"{idx:02d}_{pdb_id}/\"\n",
    "    if not os.path.exists(processed_pdb_dir_pdb): os.makedirs(processed_pdb_dir_pdb)\n",
    "    \n",
    "    if idx is not None:\n",
    "        pdb_fn = f\"{processed_pdb_dir_pdb}{idx:02d}_{pdb_id}.pdb\"\n",
    "    else:\n",
    "        pdb_fn = f\"{processed_pdb_dir_pdb}{pdb_id}.pdb\"\n",
    "        \n",
    "    \n",
    "    io = Bio.PDB.PDBIO()\n",
    "    io.set_structure(processed_structure)\n",
    "    io.save(pdb_fn , AltLocSelect(), write_end=True)\n",
    "    \n",
    "    center_pdb(pdb_fn)"
   ]
  },
  {
   "cell_type": "code",
   "execution_count": 14,
   "metadata": {
    "scrolled": false
   },
   "outputs": [
    {
     "name": "stdout",
     "output_type": "stream",
     "text": [
      "00 1BCF,A18-25;A47-54;A92-99;A123-130,A19-25;A47-50;A52-53;A92-93;A95-99;A123-126;A128-129,125,1\n"
     ]
    },
    {
     "name": "stderr",
     "output_type": "stream",
     "text": [
      "/Users/briantrippe/opt/anaconda3/lib/python3.9/site-packages/Bio/PDB/StructureBuilder.py:89: PDBConstructionWarning: WARNING: Chain A is discontinuous at line 17010.\n",
      "  warnings.warn(\n",
      "/Users/briantrippe/opt/anaconda3/lib/python3.9/site-packages/Bio/PDB/StructureBuilder.py:89: PDBConstructionWarning: WARNING: Chain B is discontinuous at line 17055.\n",
      "  warnings.warn(\n",
      "/Users/briantrippe/opt/anaconda3/lib/python3.9/site-packages/Bio/PDB/StructureBuilder.py:89: PDBConstructionWarning: WARNING: Chain C is discontinuous at line 17057.\n",
      "  warnings.warn(\n",
      "/Users/briantrippe/opt/anaconda3/lib/python3.9/site-packages/Bio/PDB/StructureBuilder.py:89: PDBConstructionWarning: WARNING: Chain D is discontinuous at line 17102.\n",
      "  warnings.warn(\n",
      "/Users/briantrippe/opt/anaconda3/lib/python3.9/site-packages/Bio/PDB/StructureBuilder.py:89: PDBConstructionWarning: WARNING: Chain E is discontinuous at line 17104.\n",
      "  warnings.warn(\n",
      "/Users/briantrippe/opt/anaconda3/lib/python3.9/site-packages/Bio/PDB/StructureBuilder.py:89: PDBConstructionWarning: WARNING: Chain F is discontinuous at line 17149.\n",
      "  warnings.warn(\n",
      "/Users/briantrippe/opt/anaconda3/lib/python3.9/site-packages/Bio/PDB/StructureBuilder.py:89: PDBConstructionWarning: WARNING: Chain G is discontinuous at line 17151.\n",
      "  warnings.warn(\n",
      "/Users/briantrippe/opt/anaconda3/lib/python3.9/site-packages/Bio/PDB/StructureBuilder.py:89: PDBConstructionWarning: WARNING: Chain H is discontinuous at line 17196.\n",
      "  warnings.warn(\n",
      "/Users/briantrippe/opt/anaconda3/lib/python3.9/site-packages/Bio/PDB/StructureBuilder.py:89: PDBConstructionWarning: WARNING: Chain I is discontinuous at line 17198.\n",
      "  warnings.warn(\n",
      "/Users/briantrippe/opt/anaconda3/lib/python3.9/site-packages/Bio/PDB/StructureBuilder.py:89: PDBConstructionWarning: WARNING: Chain J is discontinuous at line 17243.\n",
      "  warnings.warn(\n",
      "/Users/briantrippe/opt/anaconda3/lib/python3.9/site-packages/Bio/PDB/StructureBuilder.py:89: PDBConstructionWarning: WARNING: Chain K is discontinuous at line 17245.\n",
      "  warnings.warn(\n",
      "/Users/briantrippe/opt/anaconda3/lib/python3.9/site-packages/Bio/PDB/StructureBuilder.py:89: PDBConstructionWarning: WARNING: Chain L is discontinuous at line 17290.\n",
      "  warnings.warn(\n"
     ]
    },
    {
     "name": "stdout",
     "output_type": "stream",
     "text": [
      "01 1YOV,B213-223,,75,1\n"
     ]
    },
    {
     "name": "stderr",
     "output_type": "stream",
     "text": [
      "/Users/briantrippe/opt/anaconda3/lib/python3.9/site-packages/Bio/PDB/StructureBuilder.py:89: PDBConstructionWarning: WARNING: Chain B is discontinuous at line 15357.\n",
      "  warnings.warn(\n",
      "/Users/briantrippe/opt/anaconda3/lib/python3.9/site-packages/Bio/PDB/StructureBuilder.py:89: PDBConstructionWarning: WARNING: Chain D is discontinuous at line 15358.\n",
      "  warnings.warn(\n",
      "/Users/briantrippe/opt/anaconda3/lib/python3.9/site-packages/Bio/PDB/StructureBuilder.py:89: PDBConstructionWarning: WARNING: Chain A is discontinuous at line 15359.\n",
      "  warnings.warn(\n",
      "/Users/briantrippe/opt/anaconda3/lib/python3.9/site-packages/Bio/PDB/StructureBuilder.py:89: PDBConstructionWarning: WARNING: Chain B is discontinuous at line 15412.\n",
      "  warnings.warn(\n",
      "/Users/briantrippe/opt/anaconda3/lib/python3.9/site-packages/Bio/PDB/StructureBuilder.py:89: PDBConstructionWarning: WARNING: Chain C is discontinuous at line 15474.\n",
      "  warnings.warn(\n",
      "/Users/briantrippe/opt/anaconda3/lib/python3.9/site-packages/Bio/PDB/StructureBuilder.py:89: PDBConstructionWarning: WARNING: Chain D is discontinuous at line 15493.\n",
      "  warnings.warn(\n"
     ]
    },
    {
     "name": "stdout",
     "output_type": "stream",
     "text": [
      "02 2KL8,A1-7;A28-79,,100,1\n",
      "03 6E6R,A23-35,A23-35,75,1\n",
      "04 6E6R,A23-35,A23-35,200,1\n",
      "05 6EXZ,A556-570,A556-570,100,1\n",
      "06 6EXZ,A556-570,A556-570,200,1\n",
      "07 1ITU,A124-147,,150,2\n"
     ]
    },
    {
     "name": "stderr",
     "output_type": "stream",
     "text": [
      "/Users/briantrippe/opt/anaconda3/lib/python3.9/site-packages/Bio/PDB/StructureBuilder.py:89: PDBConstructionWarning: WARNING: Chain A is discontinuous at line 6323.\n",
      "  warnings.warn(\n",
      "/Users/briantrippe/opt/anaconda3/lib/python3.9/site-packages/Bio/PDB/StructureBuilder.py:89: PDBConstructionWarning: WARNING: Chain B is discontinuous at line 6369.\n",
      "  warnings.warn(\n",
      "/Users/briantrippe/opt/anaconda3/lib/python3.9/site-packages/Bio/PDB/StructureBuilder.py:89: PDBConstructionWarning: WARNING: Chain A is discontinuous at line 6415.\n",
      "  warnings.warn(\n",
      "/Users/briantrippe/opt/anaconda3/lib/python3.9/site-packages/Bio/PDB/StructureBuilder.py:89: PDBConstructionWarning: WARNING: Chain B is discontinuous at line 6754.\n",
      "  warnings.warn(\n"
     ]
    },
    {
     "name": "stdout",
     "output_type": "stream",
     "text": [
      "08 1LDB,A186-206,,125,2\n"
     ]
    },
    {
     "name": "stderr",
     "output_type": "stream",
     "text": [
      "/Users/briantrippe/opt/anaconda3/lib/python3.9/site-packages/Bio/PDB/StructureBuilder.py:89: PDBConstructionWarning: WARNING: Chain A is discontinuous at line 9678.\n",
      "  warnings.warn(\n"
     ]
    },
    {
     "name": "stdout",
     "output_type": "stream",
     "text": [
      "09 5IUS,A63-82;A119-140,A63;A65;A67;A69;A71-72;A76;A79-80;A82;A119-123;A125;A127;A129-130;A133;A135;A137-138;A140,100,2\n"
     ]
    },
    {
     "name": "stderr",
     "output_type": "stream",
     "text": [
      "/Users/briantrippe/opt/anaconda3/lib/python3.9/site-packages/Bio/PDB/StructureBuilder.py:89: PDBConstructionWarning: WARNING: Chain A is discontinuous at line 11148.\n",
      "  warnings.warn(\n",
      "/Users/briantrippe/opt/anaconda3/lib/python3.9/site-packages/Bio/PDB/StructureBuilder.py:89: PDBConstructionWarning: WARNING: Chain B is discontinuous at line 11155.\n",
      "  warnings.warn(\n",
      "/Users/briantrippe/opt/anaconda3/lib/python3.9/site-packages/Bio/PDB/StructureBuilder.py:89: PDBConstructionWarning: WARNING: Chain C is discontinuous at line 11161.\n",
      "  warnings.warn(\n",
      "/Users/briantrippe/opt/anaconda3/lib/python3.9/site-packages/Bio/PDB/StructureBuilder.py:89: PDBConstructionWarning: WARNING: Chain D is discontinuous at line 11174.\n",
      "  warnings.warn(\n"
     ]
    },
    {
     "name": "stdout",
     "output_type": "stream",
     "text": [
      "10 5WN9,A170-189,A170-175;A188-189,75,2\n"
     ]
    },
    {
     "name": "stderr",
     "output_type": "stream",
     "text": [
      "/Users/briantrippe/opt/anaconda3/lib/python3.9/site-packages/Bio/PDB/StructureBuilder.py:89: PDBConstructionWarning: WARNING: Chain H is discontinuous at line 6270.\n",
      "  warnings.warn(\n",
      "/Users/briantrippe/opt/anaconda3/lib/python3.9/site-packages/Bio/PDB/StructureBuilder.py:89: PDBConstructionWarning: WARNING: Chain A is discontinuous at line 6375.\n",
      "  warnings.warn(\n"
     ]
    },
    {
     "name": "stdout",
     "output_type": "stream",
     "text": [
      "11 5YUI,A93-97;A118-120;A198-200,A93;A95;A97;A118;A120,75,2\n",
      "12 7A8S,A41-55;A72-86,,100,2\n",
      "13 7AHO,A199-213,,125,2\n"
     ]
    },
    {
     "name": "stderr",
     "output_type": "stream",
     "text": [
      "/Users/briantrippe/opt/anaconda3/lib/python3.9/site-packages/Bio/PDB/StructureBuilder.py:89: PDBConstructionWarning: WARNING: Chain A is discontinuous at line 15317.\n",
      "  warnings.warn(\n",
      "/Users/briantrippe/opt/anaconda3/lib/python3.9/site-packages/Bio/PDB/StructureBuilder.py:89: PDBConstructionWarning: WARNING: Chain B is discontinuous at line 15344.\n",
      "  warnings.warn(\n",
      "/Users/briantrippe/opt/anaconda3/lib/python3.9/site-packages/Bio/PDB/StructureBuilder.py:89: PDBConstructionWarning: WARNING: Chain C is discontinuous at line 15371.\n",
      "  warnings.warn(\n"
     ]
    },
    {
     "name": "stdout",
     "output_type": "stream",
     "text": [
      "14 7BNY,A83-97;A111-125,,125,2\n"
     ]
    },
    {
     "name": "stderr",
     "output_type": "stream",
     "text": [
      "/Users/briantrippe/opt/anaconda3/lib/python3.9/site-packages/Bio/PDB/StructureBuilder.py:89: PDBConstructionWarning: WARNING: Chain A is discontinuous at line 9478.\n",
      "  warnings.warn(\n",
      "/Users/briantrippe/opt/anaconda3/lib/python3.9/site-packages/Bio/PDB/StructureBuilder.py:89: PDBConstructionWarning: WARNING: Chain B is discontinuous at line 9493.\n",
      "  warnings.warn(\n",
      "/Users/briantrippe/opt/anaconda3/lib/python3.9/site-packages/Bio/PDB/StructureBuilder.py:89: PDBConstructionWarning: WARNING: Chain C is discontinuous at line 9508.\n",
      "  warnings.warn(\n",
      "/Users/briantrippe/opt/anaconda3/lib/python3.9/site-packages/Bio/PDB/StructureBuilder.py:89: PDBConstructionWarning: WARNING: Chain D is discontinuous at line 9513.\n",
      "  warnings.warn(\n",
      "/Users/briantrippe/opt/anaconda3/lib/python3.9/site-packages/Bio/PDB/StructureBuilder.py:89: PDBConstructionWarning: WARNING: Chain A is discontinuous at line 9523.\n",
      "  warnings.warn(\n",
      "/Users/briantrippe/opt/anaconda3/lib/python3.9/site-packages/Bio/PDB/StructureBuilder.py:89: PDBConstructionWarning: WARNING: Chain B is discontinuous at line 9579.\n",
      "  warnings.warn(\n",
      "/Users/briantrippe/opt/anaconda3/lib/python3.9/site-packages/Bio/PDB/StructureBuilder.py:89: PDBConstructionWarning: WARNING: Chain C is discontinuous at line 9624.\n",
      "  warnings.warn(\n",
      "/Users/briantrippe/opt/anaconda3/lib/python3.9/site-packages/Bio/PDB/StructureBuilder.py:89: PDBConstructionWarning: WARNING: Chain D is discontinuous at line 9650.\n",
      "  warnings.warn(\n"
     ]
    },
    {
     "name": "stdout",
     "output_type": "stream",
     "text": [
      "15 7DGW,A22-36;A70-84,,125,2\n",
      "16 7MQQ,A80-94;A115-129,,125,2\n",
      "17 1B73,A7-8;A70;A178-180,A179,125,3\n",
      "18 1LCC,A1-51,,150,3\n"
     ]
    },
    {
     "name": "stderr",
     "output_type": "stream",
     "text": [
      "/Users/briantrippe/opt/anaconda3/lib/python3.9/site-packages/Bio/PDB/StructureBuilder.py:89: PDBConstructionWarning: WARNING: Chain C is discontinuous at line 1429.\n",
      "  warnings.warn(\n",
      "/Users/briantrippe/opt/anaconda3/lib/python3.9/site-packages/Bio/PDB/StructureBuilder.py:89: PDBConstructionWarning: WARNING: Chain B is discontinuous at line 1430.\n",
      "  warnings.warn(\n",
      "/Users/briantrippe/opt/anaconda3/lib/python3.9/site-packages/Bio/PDB/StructureBuilder.py:89: PDBConstructionWarning: WARNING: Chain C is discontinuous at line 1466.\n",
      "  warnings.warn(\n",
      "/Users/briantrippe/opt/anaconda3/lib/python3.9/site-packages/Bio/PDB/StructureBuilder.py:89: PDBConstructionWarning: WARNING: Chain A is discontinuous at line 1508.\n",
      "  warnings.warn(\n"
     ]
    },
    {
     "name": "stdout",
     "output_type": "stream",
     "text": [
      "19 1MPY,A153;A199;A214;A246;A255;A265,,125,3\n"
     ]
    },
    {
     "name": "stderr",
     "output_type": "stream",
     "text": [
      "/Users/briantrippe/opt/anaconda3/lib/python3.9/site-packages/Bio/PDB/StructureBuilder.py:89: PDBConstructionWarning: WARNING: Chain A is discontinuous at line 10615.\n",
      "  warnings.warn(\n",
      "/Users/briantrippe/opt/anaconda3/lib/python3.9/site-packages/Bio/PDB/StructureBuilder.py:89: PDBConstructionWarning: WARNING: Chain B is discontinuous at line 10620.\n",
      "  warnings.warn(\n",
      "/Users/briantrippe/opt/anaconda3/lib/python3.9/site-packages/Bio/PDB/StructureBuilder.py:89: PDBConstructionWarning: WARNING: Chain C is discontinuous at line 10625.\n",
      "  warnings.warn(\n",
      "/Users/briantrippe/opt/anaconda3/lib/python3.9/site-packages/Bio/PDB/StructureBuilder.py:89: PDBConstructionWarning: WARNING: Chain D is discontinuous at line 10630.\n",
      "  warnings.warn(\n",
      "/Users/briantrippe/opt/anaconda3/lib/python3.9/site-packages/Bio/PDB/StructureBuilder.py:89: PDBConstructionWarning: WARNING: Chain A is discontinuous at line 10635.\n",
      "  warnings.warn(\n",
      "/Users/briantrippe/opt/anaconda3/lib/python3.9/site-packages/Bio/PDB/StructureBuilder.py:89: PDBConstructionWarning: WARNING: Chain B is discontinuous at line 10667.\n",
      "  warnings.warn(\n",
      "/Users/briantrippe/opt/anaconda3/lib/python3.9/site-packages/Bio/PDB/StructureBuilder.py:89: PDBConstructionWarning: WARNING: Chain C is discontinuous at line 10691.\n",
      "  warnings.warn(\n",
      "/Users/briantrippe/opt/anaconda3/lib/python3.9/site-packages/Bio/PDB/StructureBuilder.py:89: PDBConstructionWarning: WARNING: Chain D is discontinuous at line 10714.\n",
      "  warnings.warn(\n"
     ]
    },
    {
     "name": "stdout",
     "output_type": "stream",
     "text": [
      "20 1QY3,A58-71;A96;A222,A58-61;A63-64;A68-71,225,3\n",
      "21 2RKX,A9-11;A48-50;A101;A128;A169;A176;A201;A222-224,A10;A49;A223,225,3\n",
      "22 3B5V,A51-53;A81;A110;A131;A159;A180-184;A210-211;A231-233,A52;A181;A183;A232,200,3\n",
      "23 4JHW,F63-69;F196-212,F63;F69;F196;F198;F203;F211-212,125,3\n",
      "24 4XOJ,A55;A99;A190-192,A191,150,3\n"
     ]
    },
    {
     "name": "stderr",
     "output_type": "stream",
     "text": [
      "/Users/briantrippe/opt/anaconda3/lib/python3.9/site-packages/Bio/PDB/StructureBuilder.py:89: PDBConstructionWarning: WARNING: Chain A is discontinuous at line 4414.\n",
      "  warnings.warn(\n",
      "/Users/briantrippe/opt/anaconda3/lib/python3.9/site-packages/Bio/PDB/StructureBuilder.py:89: PDBConstructionWarning: WARNING: Chain B is discontinuous at line 5286.\n",
      "  warnings.warn(\n"
     ]
    },
    {
     "name": "stdout",
     "output_type": "stream",
     "text": [
      "25 6CPA,A69-72;A127;A196;A248;A270,A70-71,200,3\n",
      "26 7AD5,A99-113,,125,3\n",
      "27 7WRK,A80-94,,125,3\n",
      "28 7UWL,E63-73;E101-111,E63-73;E101-103;E105-111,175,3\n"
     ]
    },
    {
     "name": "stderr",
     "output_type": "stream",
     "text": [
      "/Users/briantrippe/opt/anaconda3/lib/python3.9/site-packages/Bio/PDB/StructureBuilder.py:89: PDBConstructionWarning: WARNING: Chain A is discontinuous at line 11094.\n",
      "  warnings.warn(\n",
      "/Users/briantrippe/opt/anaconda3/lib/python3.9/site-packages/Bio/PDB/StructureBuilder.py:89: PDBConstructionWarning: WARNING: Chain B is discontinuous at line 11108.\n",
      "  warnings.warn(\n",
      "/Users/briantrippe/opt/anaconda3/lib/python3.9/site-packages/Bio/PDB/StructureBuilder.py:89: PDBConstructionWarning: WARNING: Chain C is discontinuous at line 11122.\n",
      "  warnings.warn(\n",
      "/Users/briantrippe/opt/anaconda3/lib/python3.9/site-packages/Bio/PDB/StructureBuilder.py:89: PDBConstructionWarning: WARNING: Chain D is discontinuous at line 11164.\n",
      "  warnings.warn(\n",
      "/Users/briantrippe/opt/anaconda3/lib/python3.9/site-packages/Bio/PDB/StructureBuilder.py:89: PDBConstructionWarning: WARNING: Chain E is discontinuous at line 11206.\n",
      "  warnings.warn(\n",
      "/Users/briantrippe/opt/anaconda3/lib/python3.9/site-packages/Bio/PDB/StructureBuilder.py:89: PDBConstructionWarning: WARNING: Chain F is discontinuous at line 11248.\n",
      "  warnings.warn(\n"
     ]
    },
    {
     "name": "stdout",
     "output_type": "stream",
     "text": [
      "29 7UWL,E63-73;E101-111;E132-142;E165-174,E63-73;E101-103;E105-111;E132-142;E165-174,175,3\n"
     ]
    },
    {
     "name": "stderr",
     "output_type": "stream",
     "text": [
      "/Users/briantrippe/opt/anaconda3/lib/python3.9/site-packages/Bio/PDB/StructureBuilder.py:89: PDBConstructionWarning: WARNING: Chain A is discontinuous at line 11094.\n",
      "  warnings.warn(\n",
      "/Users/briantrippe/opt/anaconda3/lib/python3.9/site-packages/Bio/PDB/StructureBuilder.py:89: PDBConstructionWarning: WARNING: Chain B is discontinuous at line 11108.\n",
      "  warnings.warn(\n",
      "/Users/briantrippe/opt/anaconda3/lib/python3.9/site-packages/Bio/PDB/StructureBuilder.py:89: PDBConstructionWarning: WARNING: Chain C is discontinuous at line 11122.\n",
      "  warnings.warn(\n",
      "/Users/briantrippe/opt/anaconda3/lib/python3.9/site-packages/Bio/PDB/StructureBuilder.py:89: PDBConstructionWarning: WARNING: Chain D is discontinuous at line 11164.\n",
      "  warnings.warn(\n",
      "/Users/briantrippe/opt/anaconda3/lib/python3.9/site-packages/Bio/PDB/StructureBuilder.py:89: PDBConstructionWarning: WARNING: Chain E is discontinuous at line 11206.\n",
      "  warnings.warn(\n",
      "/Users/briantrippe/opt/anaconda3/lib/python3.9/site-packages/Bio/PDB/StructureBuilder.py:89: PDBConstructionWarning: WARNING: Chain F is discontinuous at line 11248.\n",
      "  warnings.warn(\n"
     ]
    }
   ],
   "source": [
    "motif_specs_paths = [\n",
    "    \"../motif_specs.csv\"\n",
    "]\n",
    "\n",
    "# Make sure the motif_pdb_dir and reference_pdb_dir directories exist.\n",
    "processed_pdb_dir = \"../reference_pdb_baseline/\"\n",
    "if not os.path.exists(processed_pdb_dir): os.makedirs(processed_pdb_dir)\n",
    "\n",
    "reference_pdb_dir = \"../reference_pdbs/\"\n",
    "if not os.path.exists(reference_pdb_dir): os.makedirs(reference_pdb_dir)\n",
    "\n",
    "# Parse the motif specs files and save the motif PDBs.\n",
    "for motif_specs_path in motif_specs_paths:\n",
    "    with open(motif_specs_path, \"r\") as f:\n",
    "        f.readline()\n",
    "        for idx, line in enumerate(f):\n",
    "            print(f\"{idx:02d}\", line.strip())\n",
    "            save_processed_pdb(line.strip(), processed_pdb_dir=processed_pdb_dir, reference_pdb_dir=reference_pdb_dir, idx=idx)"
   ]
  },
  {
   "cell_type": "code",
   "execution_count": null,
   "metadata": {},
   "outputs": [],
   "source": []
  }
 ],
 "metadata": {
  "kernelspec": {
   "display_name": "Python 3 (ipykernel)",
   "language": "python",
   "name": "python3"
  },
  "language_info": {
   "codemirror_mode": {
    "name": "ipython",
    "version": 3
   },
   "file_extension": ".py",
   "mimetype": "text/x-python",
   "name": "python",
   "nbconvert_exporter": "python",
   "pygments_lexer": "ipython3",
   "version": "3.9.7"
  }
 },
 "nbformat": 4,
 "nbformat_minor": 2
}
