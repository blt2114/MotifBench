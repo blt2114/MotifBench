{
 "cells": [
  {
   "cell_type": "markdown",
   "metadata": {},
   "source": [
    "# Motif specification\n",
    "Each motif string contains a pdb id, specification of motif amino acid chain and residue indexes, and specification of which of these residues may be redesigned.\n",
    "\n",
    "# Example motifs\n",
    "* \"7F7P,B32-46;A7-21,B32-46;A7-21\" --> two segments of motif. Residues 32 through 46 on chain B and residues 7 through 21 on chain A.  All positions may be redesigned.\n",
    "\n",
    "* \"4xoj,A55;A99;A190-192,A191\" --> three segments of motif.  All on chain A.  Residues 55, 99, 190, 191, and 192.  Only residue 191 may be redesigned.\n",
    "\n",
    "# Outputs\n",
    "The output of the processing is a pdb file with the coordinates of motif residues.\n",
    "* Each segment of the motif is labeled as its own chain, in order A, B, C, etc.\n",
    "* For that may be redesigned, all atoms other than N, CA, C and O are removed and the residue type is set to UNK.\n",
    "* The header of the motif includes a contig specifying how the motif is placed in the native scaffold.\n",
    "  * Example:  consider \"4xoj,A55;A99;A190-192,A191\" the header contig should be \"38;A;43;B;90;C;46\"\n",
    "  * 4xoj has 223 resolved residues (indexed as 16 through 238), the 38 corresponds to the 38 residues 16-54 before residue 55 (segment A), the 43 corresponds to the residues between residue 55 and 99 and so on. The final 46 indicates that the native structure terminates with 46 additional residues that are not part of the motif."
   ]
  },
  {
   "cell_type": "code",
   "execution_count": 1,
   "metadata": {},
   "outputs": [],
   "source": [
    "import os\n",
    "import urllib.request\n",
    "import Bio\n",
    "import numpy as np\n",
    "from Bio.PDB import PDBParser, Select\n",
    "motif_chain_id_order = \"ABCDEFGHIJKLMNOPQRSTUVWXYZ\""
   ]
  },
  {
   "cell_type": "code",
   "execution_count": 2,
   "metadata": {},
   "outputs": [],
   "source": [
    "def parse_contig_string(contig_string):\n",
    "    contig_segments = []\n",
    "    for motif_segment in contig_string.split(\";\"):\n",
    "        segment_dict ={\"chain\":motif_segment[0]}\n",
    "        if \"-\" in motif_segment:\n",
    "            segment_dict[\"start\"], segment_dict[\"end\"] = motif_segment[1:].split(\"-\")\n",
    "\n",
    "        else:\n",
    "            segment_dict[\"start\"] = segment_dict[\"end\"] = motif_segment[1:]\n",
    "        contig_segments.append(segment_dict)\n",
    "    return contig_segments\n",
    "\n",
    "def check_if_in_segment(redesign_segments, chain, residue):\n",
    "    for segment in redesign_segments:\n",
    "        if segment[\"chain\"] == chain:\n",
    "            if int(segment[\"start\"]) <= residue <= int(segment[\"end\"]):\n",
    "                return True\n",
    "    return False\n",
    "\n",
    "class AltLocSelect(Select):\n",
    "    def accept_atom(self, atom):\n",
    "        # Accept atoms with altloc 'A' or no altloc\n",
    "        return atom.altloc in ('A', ' ')\n",
    "\n",
    "def remove_alt_conformations(structure):\n",
    "    # Remove atoms with alternate location identifiers other than 'A'\n",
    "    for model in structure:\n",
    "        for chain in model:\n",
    "            for residue in chain:\n",
    "                # Create a list of atoms to remove\n",
    "                atoms_to_remove = []\n",
    "                for atom in residue:\n",
    "                    #if atom.altloc not in ('A', ' '):\n",
    "                    if atom.get_full_id()[4][1] not in ('A', ' '):\n",
    "                        atoms_to_remove.append(atom)\n",
    "                    elif atom.altloc == 'A':\n",
    "                        atom.set_altloc(' ')\n",
    "                if atoms_to_remove:\n",
    "                    for atom in atoms_to_remove:\n",
    "                        residue.detach_child(atom.id)\n",
    "    return structure\n",
    "\n",
    "                \n",
    "\n"
   ]
  },
  {
   "cell_type": "code",
   "execution_count": 3,
   "metadata": {},
   "outputs": [],
   "source": [
    "# Fetch the PDB file from RCSB and parse it with BioPython\n",
    "def load_pdb(pdb_id, native_pdb_dir=\"./native_pdbs/\"):\n",
    "    pdb_fn = f\"{native_pdb_dir}{pdb_id}.pdb\" # File name to save the PDB file to\n",
    "    urllib.request.urlretrieve(\n",
    "        f'http://files.rcsb.org/download/{pdb_id}.pdb',\n",
    "        f\"{native_pdb_dir}{pdb_id}.pdb\")\n",
    "\n",
    "    # Parse the PDB file and extract the motif segments.\n",
    "    # Then save a new pdb file with each segment concatenated, with each segment in a separate chain.\n",
    "    parser = PDBParser()\n",
    "    structure = parser.get_structure(pdb_id, f\"{native_pdb_dir}{pdb_id}.pdb\")\n",
    "    return structure\n",
    "\n",
    "\n",
    "def parse_motif_into_new_structure(structure, motif_segments, redesign_segments):\n",
    "    # Create a new structure object to hold the motif segments\n",
    "    motif_structure = Bio.PDB.Structure.Structure(\"motif\")\n",
    "    motif_structure.add(Bio.PDB.Model.Model(0))\n",
    "\n",
    "    # Iterate through segments creating a new chain for each segment \n",
    "    for i, segment in enumerate(motif_segments):\n",
    "        motif_structure[0].add(Bio.PDB.Chain.Chain(motif_chain_id_order[i]))\n",
    "\n",
    "        # Iterate through residues in the segment and add them to the new chain.\n",
    "        for residue in structure[0][segment[\"chain\"]]:\n",
    "            if int(segment[\"start\"]) <= residue.id[1] <= int(segment[\"end\"]):\n",
    "\n",
    "                # Remove all hydrogen atoms.\n",
    "                for atom in list(residue):\n",
    "                    if atom.element == \"H\":\n",
    "                        residue.detach_child(atom.id)\n",
    "\n",
    "                # Check if the residue is in a redesign segment.\n",
    "                # If so, remove atoms except the backbone and set type to UNK.\n",
    "                if check_if_in_segment(redesign_segments, segment[\"chain\"], residue.id[1]):\n",
    "                    for atom in list(residue):\n",
    "                        if atom.id not in [\"N\", \"CA\", \"C\", \"O\"]:\n",
    "                            residue.detach_child(atom.id)\n",
    "                    residue.resname = \"UNK\"\n",
    "                \n",
    "                # Reset residue index to start from 1.\n",
    "                residue = residue.copy()\n",
    "                residue.id = (\" \", residue.id[1]-int(segment[\"start\"])+1, \" \")\n",
    "\n",
    "                # Add the residue to the new chain.\n",
    "                motif_structure[0][motif_chain_id_order[i]].add(residue)\n",
    "\n",
    "    return motif_structure\n",
    "\n",
    "\n",
    "# Center the motif structure on the origin.\n",
    "# Because of some BioPython weirdness, we have to do this manually,\n",
    "# by reading the saved pdb file and calculating the center of mass,\n",
    "# then translating the structure to the origin, and saving it again.\n",
    "def center_pdb(motif_fn):\n",
    "    # Load the motif structure from the saved pdb file.\n",
    "    parser = PDBParser()\n",
    "    motif_structure = parser.get_structure(\"motif\", motif_fn)\n",
    "\n",
    "\n",
    "    ### Translate the motif structure to the origin.\n",
    "    # Get the center of mass of the motif structure.\n",
    "    com = np.array([0., 0., 0.])\n",
    "    count = 0\n",
    "    for atom in motif_structure.get_atoms():\n",
    "        atom_vec = atom.get_vector().get_array()\n",
    "        com += atom_vec\n",
    "        count += 1\n",
    "    com = com/count\n",
    "\n",
    "    # Translate the motif structure to the origin.\n",
    "    for atom in motif_structure.get_atoms():\n",
    "        atom.set_coord(atom.get_coord() - com)\n",
    "\n",
    "    # Save the centered motif structure, overwriting the original file.\n",
    "    io = Bio.PDB.PDBIO()\n",
    "    io.set_structure(motif_structure)\n",
    "    io.save(motif_fn)"
   ]
  },
  {
   "cell_type": "code",
   "execution_count": 11,
   "metadata": {},
   "outputs": [],
   "source": [
    "def build_contig_string(structure, motif_segments):\n",
    "    # Write a contig string describing the placement of the motif in the original structure, restricting to resolved residues.\n",
    "\n",
    "    # First find the first resolved residue in the structure.\n",
    "    first_residue = None\n",
    "    motif_chain = motif_segments[0][\"chain\"]\n",
    "    for residue in structure[0][motif_chain]:\n",
    "        if residue.id[1] != \" \":\n",
    "            first_residue = residue.id[1]\n",
    "            break\n",
    "\n",
    "    # Iterate through the motif segments and compute the number of residues between them.\n",
    "    contig_string = \"\"\n",
    "    for i, segment in enumerate(motif_segments):\n",
    "        chain = motif_chain_id_order[i]\n",
    "        if i == 0:\n",
    "            contig_string += f\"{int(segment['start']) - first_residue};{chain};\"\n",
    "        else:\n",
    "            contig_string += f\"{int(segment['start']) - int(motif_segments[i-1]['end']) - 1};{chain};\"\n",
    "        if i == len(motif_segments) - 1:\n",
    "            break\n",
    "\n",
    "    # get index of last residue in the structure, excluding heteroatoms\n",
    "    chain = segment[\"chain\"]\n",
    "    last_AA_idx = 0\n",
    "    for residue in structure[0][chain]:\n",
    "        if residue.id[0] == \" \": # check that it is not a heteroatom\n",
    "            last_AA_idx = residue.id[1]\n",
    "\n",
    "    contig_string += f\"{last_AA_idx - int(segment['end'])}\"\n",
    "    return contig_string\n",
    "\n",
    "\n",
    "def save_motif_pdb(motif_string, motif_pdb_dir=\"./motif_pdbs/\", native_pdb_dir=\"./native_pdbs/\"):\n",
    "    pdb_id, motif_residues, redesign_residues = motif_string.split(\",\")\n",
    "\n",
    "    # Load structure and parse motif into new structure\n",
    "    structure = load_pdb(pdb_id, native_pdb_dir=native_pdb_dir)\n",
    "\n",
    "    # Some pdbs have alternate conformations, which we remove.\n",
    "    structure = remove_alt_conformations(structure)\n",
    "\n",
    "    motif_segments = parse_contig_string(motif_residues)\n",
    "    redesign_segments = parse_contig_string(redesign_residues) if redesign_residues else []\n",
    "    motif_structure = parse_motif_into_new_structure(structure, motif_segments, redesign_segments)\n",
    "\n",
    "    # Save the new structure to a PDB file with a header that includes the place of the motif in the original structure.\n",
    "    contig_string = build_contig_string(structure, motif_segments)\n",
    "    header_string = f\"REMARK 1 Original PDB ID: {pdb_id}\\n\"\n",
    "    header_string += f\"REMARK 2 Contig: {contig_string}\\n\"\n",
    "\n",
    "    motif_fn = f\"{motif_pdb_dir}{pdb_id}_motif.pdb\"\n",
    "    io = Bio.PDB.PDBIO()\n",
    "    io.set_structure(motif_structure)\n",
    "    io.save(motif_fn , AltLocSelect(), write_end=True)\n",
    "\n",
    "    # Center the motif structure on the origin.\n",
    "    center_pdb(motif_fn)\n",
    "\n",
    "    # Prepend header_string to the new PDB file by copying the file and writing the header first.\n",
    "    with open(f\"{motif_pdb_dir}{pdb_id}_motif.pdb\", \"r\") as f:\n",
    "        file_string = f.read()\n",
    "    with open(f\"{motif_pdb_dir}{pdb_id}_motif.pdb\", \"w\") as f:\n",
    "        f.write(header_string + file_string)\n"
   ]
  },
  {
   "cell_type": "code",
   "execution_count": 12,
   "metadata": {},
   "outputs": [
    {
     "name": "stdout",
     "output_type": "stream",
     "text": [
      "1BCF,A18-25;A47-54;A92-99;A123-130,A19-25;A47-50;A52-53;A92-93;A95-99;A123-126;A128-129\n"
     ]
    },
    {
     "name": "stderr",
     "output_type": "stream",
     "text": [
      "/Users/briantrippe/opt/anaconda3/lib/python3.9/site-packages/Bio/PDB/StructureBuilder.py:89: PDBConstructionWarning: WARNING: Chain A is discontinuous at line 17010.\n",
      "  warnings.warn(\n",
      "/Users/briantrippe/opt/anaconda3/lib/python3.9/site-packages/Bio/PDB/StructureBuilder.py:89: PDBConstructionWarning: WARNING: Chain B is discontinuous at line 17055.\n",
      "  warnings.warn(\n",
      "/Users/briantrippe/opt/anaconda3/lib/python3.9/site-packages/Bio/PDB/StructureBuilder.py:89: PDBConstructionWarning: WARNING: Chain C is discontinuous at line 17057.\n",
      "  warnings.warn(\n",
      "/Users/briantrippe/opt/anaconda3/lib/python3.9/site-packages/Bio/PDB/StructureBuilder.py:89: PDBConstructionWarning: WARNING: Chain D is discontinuous at line 17102.\n",
      "  warnings.warn(\n",
      "/Users/briantrippe/opt/anaconda3/lib/python3.9/site-packages/Bio/PDB/StructureBuilder.py:89: PDBConstructionWarning: WARNING: Chain E is discontinuous at line 17104.\n",
      "  warnings.warn(\n",
      "/Users/briantrippe/opt/anaconda3/lib/python3.9/site-packages/Bio/PDB/StructureBuilder.py:89: PDBConstructionWarning: WARNING: Chain F is discontinuous at line 17149.\n",
      "  warnings.warn(\n",
      "/Users/briantrippe/opt/anaconda3/lib/python3.9/site-packages/Bio/PDB/StructureBuilder.py:89: PDBConstructionWarning: WARNING: Chain G is discontinuous at line 17151.\n",
      "  warnings.warn(\n",
      "/Users/briantrippe/opt/anaconda3/lib/python3.9/site-packages/Bio/PDB/StructureBuilder.py:89: PDBConstructionWarning: WARNING: Chain H is discontinuous at line 17196.\n",
      "  warnings.warn(\n",
      "/Users/briantrippe/opt/anaconda3/lib/python3.9/site-packages/Bio/PDB/StructureBuilder.py:89: PDBConstructionWarning: WARNING: Chain I is discontinuous at line 17198.\n",
      "  warnings.warn(\n",
      "/Users/briantrippe/opt/anaconda3/lib/python3.9/site-packages/Bio/PDB/StructureBuilder.py:89: PDBConstructionWarning: WARNING: Chain J is discontinuous at line 17243.\n",
      "  warnings.warn(\n",
      "/Users/briantrippe/opt/anaconda3/lib/python3.9/site-packages/Bio/PDB/StructureBuilder.py:89: PDBConstructionWarning: WARNING: Chain K is discontinuous at line 17245.\n",
      "  warnings.warn(\n",
      "/Users/briantrippe/opt/anaconda3/lib/python3.9/site-packages/Bio/PDB/StructureBuilder.py:89: PDBConstructionWarning: WARNING: Chain L is discontinuous at line 17290.\n",
      "  warnings.warn(\n"
     ]
    },
    {
     "name": "stdout",
     "output_type": "stream",
     "text": [
      "5TPN,A163-181,A163-168;A170-171;A179\n",
      "5IUS,A119-140;A63-82,A63;A65;A67;A69;A71-72;A76;A79-80;A82;A119-123;A125;A127;A129-130;A133;A135;A137-138;A140\n"
     ]
    },
    {
     "name": "stderr",
     "output_type": "stream",
     "text": [
      "/Users/briantrippe/opt/anaconda3/lib/python3.9/site-packages/Bio/PDB/StructureBuilder.py:89: PDBConstructionWarning: WARNING: Chain A is discontinuous at line 11147.\n",
      "  warnings.warn(\n",
      "/Users/briantrippe/opt/anaconda3/lib/python3.9/site-packages/Bio/PDB/StructureBuilder.py:89: PDBConstructionWarning: WARNING: Chain B is discontinuous at line 11154.\n",
      "  warnings.warn(\n",
      "/Users/briantrippe/opt/anaconda3/lib/python3.9/site-packages/Bio/PDB/StructureBuilder.py:89: PDBConstructionWarning: WARNING: Chain C is discontinuous at line 11160.\n",
      "  warnings.warn(\n",
      "/Users/briantrippe/opt/anaconda3/lib/python3.9/site-packages/Bio/PDB/StructureBuilder.py:89: PDBConstructionWarning: WARNING: Chain D is discontinuous at line 11173.\n",
      "  warnings.warn(\n"
     ]
    },
    {
     "name": "stdout",
     "output_type": "stream",
     "text": [
      "3IXT,P254-277,P255;P258-259;P262-263;P268;P271-272;P275-276\n"
     ]
    },
    {
     "name": "stderr",
     "output_type": "stream",
     "text": [
      "/Users/briantrippe/opt/anaconda3/lib/python3.9/site-packages/Bio/PDB/StructureBuilder.py:89: PDBConstructionWarning: WARNING: Chain P is discontinuous at line 14488.\n",
      "  warnings.warn(\n",
      "/Users/briantrippe/opt/anaconda3/lib/python3.9/site-packages/Bio/PDB/StructureBuilder.py:89: PDBConstructionWarning: WARNING: Chain A is discontinuous at line 14492.\n",
      "  warnings.warn(\n",
      "/Users/briantrippe/opt/anaconda3/lib/python3.9/site-packages/Bio/PDB/StructureBuilder.py:89: PDBConstructionWarning: WARNING: Chain C is discontinuous at line 14496.\n",
      "  warnings.warn(\n",
      "/Users/briantrippe/opt/anaconda3/lib/python3.9/site-packages/Bio/PDB/StructureBuilder.py:89: PDBConstructionWarning: WARNING: Chain L is discontinuous at line 14500.\n",
      "  warnings.warn(\n",
      "/Users/briantrippe/opt/anaconda3/lib/python3.9/site-packages/Bio/PDB/StructureBuilder.py:89: PDBConstructionWarning: WARNING: Chain H is discontinuous at line 14536.\n",
      "  warnings.warn(\n",
      "/Users/briantrippe/opt/anaconda3/lib/python3.9/site-packages/Bio/PDB/StructureBuilder.py:89: PDBConstructionWarning: WARNING: Chain P is discontinuous at line 14576.\n",
      "  warnings.warn(\n",
      "/Users/briantrippe/opt/anaconda3/lib/python3.9/site-packages/Bio/PDB/StructureBuilder.py:89: PDBConstructionWarning: WARNING: Chain B is discontinuous at line 14579.\n",
      "  warnings.warn(\n",
      "/Users/briantrippe/opt/anaconda3/lib/python3.9/site-packages/Bio/PDB/StructureBuilder.py:89: PDBConstructionWarning: WARNING: Chain A is discontinuous at line 14609.\n",
      "  warnings.warn(\n",
      "/Users/briantrippe/opt/anaconda3/lib/python3.9/site-packages/Bio/PDB/StructureBuilder.py:89: PDBConstructionWarning: WARNING: Chain C is discontinuous at line 14649.\n",
      "  warnings.warn(\n"
     ]
    },
    {
     "name": "stdout",
     "output_type": "stream",
     "text": [
      "5YUI,A93-97;A118-120;A198-200,A93;A95;A97;A118;A120\n",
      "1YCR,B19-27,B20-22;B24-25\n",
      "2KL8,A1-7;A28-79,\n",
      "7MRX,B25-46,B25-46\n"
     ]
    },
    {
     "name": "stderr",
     "output_type": "stream",
     "text": [
      "/Users/briantrippe/opt/anaconda3/lib/python3.9/site-packages/Bio/PDB/StructureBuilder.py:89: PDBConstructionWarning: WARNING: Chain A is discontinuous at line 10632.\n",
      "  warnings.warn(\n",
      "/Users/briantrippe/opt/anaconda3/lib/python3.9/site-packages/Bio/PDB/StructureBuilder.py:89: PDBConstructionWarning: WARNING: Chain B is discontinuous at line 10739.\n",
      "  warnings.warn(\n",
      "/Users/briantrippe/opt/anaconda3/lib/python3.9/site-packages/Bio/PDB/StructureBuilder.py:89: PDBConstructionWarning: WARNING: Chain C is discontinuous at line 10808.\n",
      "  warnings.warn(\n",
      "/Users/briantrippe/opt/anaconda3/lib/python3.9/site-packages/Bio/PDB/StructureBuilder.py:89: PDBConstructionWarning: WARNING: Chain D is discontinuous at line 10912.\n",
      "  warnings.warn(\n",
      "/Users/briantrippe/opt/anaconda3/lib/python3.9/site-packages/Bio/PDB/StructureBuilder.py:89: PDBConstructionWarning: WARNING: Chain E is discontinuous at line 10946.\n",
      "  warnings.warn(\n",
      "/Users/briantrippe/opt/anaconda3/lib/python3.9/site-packages/Bio/PDB/StructureBuilder.py:89: PDBConstructionWarning: WARNING: Chain F is discontinuous at line 10987.\n",
      "  warnings.warn(\n"
     ]
    },
    {
     "name": "stdout",
     "output_type": "stream",
     "text": [
      "4JHW,F63-69;F196-212,F63;F69;F196;F198;F203;F211-212\n",
      "4ZYP,A422-436,A422-427;A430-431;A433-43\n",
      "5WN9,A170-189,A170-175;A188-189\n"
     ]
    },
    {
     "name": "stderr",
     "output_type": "stream",
     "text": [
      "/Users/briantrippe/opt/anaconda3/lib/python3.9/site-packages/Bio/PDB/StructureBuilder.py:89: PDBConstructionWarning: WARNING: Chain H is discontinuous at line 6269.\n",
      "  warnings.warn(\n",
      "/Users/briantrippe/opt/anaconda3/lib/python3.9/site-packages/Bio/PDB/StructureBuilder.py:89: PDBConstructionWarning: WARNING: Chain A is discontinuous at line 6374.\n",
      "  warnings.warn(\n"
     ]
    },
    {
     "name": "stdout",
     "output_type": "stream",
     "text": [
      "5TRV,A45-65,A45-65\n",
      "6E6R,A23-35,A23-35\n",
      "6EXZ,A556-570,A556-570\n",
      "7A8S,A41-55;A72-86,\n",
      "7AD5,A99-113,\n",
      "7AHO,A199-213,\n"
     ]
    },
    {
     "name": "stderr",
     "output_type": "stream",
     "text": [
      "/Users/briantrippe/opt/anaconda3/lib/python3.9/site-packages/Bio/PDB/StructureBuilder.py:89: PDBConstructionWarning: WARNING: Chain A is discontinuous at line 15317.\n",
      "  warnings.warn(\n",
      "/Users/briantrippe/opt/anaconda3/lib/python3.9/site-packages/Bio/PDB/StructureBuilder.py:89: PDBConstructionWarning: WARNING: Chain B is discontinuous at line 15344.\n",
      "  warnings.warn(\n",
      "/Users/briantrippe/opt/anaconda3/lib/python3.9/site-packages/Bio/PDB/StructureBuilder.py:89: PDBConstructionWarning: WARNING: Chain C is discontinuous at line 15371.\n",
      "  warnings.warn(\n"
     ]
    },
    {
     "name": "stdout",
     "output_type": "stream",
     "text": [
      "7BNY,A85-99,\n"
     ]
    },
    {
     "name": "stderr",
     "output_type": "stream",
     "text": [
      "/Users/briantrippe/opt/anaconda3/lib/python3.9/site-packages/Bio/PDB/StructureBuilder.py:89: PDBConstructionWarning: WARNING: Chain A is discontinuous at line 9477.\n",
      "  warnings.warn(\n",
      "/Users/briantrippe/opt/anaconda3/lib/python3.9/site-packages/Bio/PDB/StructureBuilder.py:89: PDBConstructionWarning: WARNING: Chain B is discontinuous at line 9492.\n",
      "  warnings.warn(\n",
      "/Users/briantrippe/opt/anaconda3/lib/python3.9/site-packages/Bio/PDB/StructureBuilder.py:89: PDBConstructionWarning: WARNING: Chain C is discontinuous at line 9507.\n",
      "  warnings.warn(\n",
      "/Users/briantrippe/opt/anaconda3/lib/python3.9/site-packages/Bio/PDB/StructureBuilder.py:89: PDBConstructionWarning: WARNING: Chain D is discontinuous at line 9512.\n",
      "  warnings.warn(\n",
      "/Users/briantrippe/opt/anaconda3/lib/python3.9/site-packages/Bio/PDB/StructureBuilder.py:89: PDBConstructionWarning: WARNING: Chain A is discontinuous at line 9522.\n",
      "  warnings.warn(\n",
      "/Users/briantrippe/opt/anaconda3/lib/python3.9/site-packages/Bio/PDB/StructureBuilder.py:89: PDBConstructionWarning: WARNING: Chain B is discontinuous at line 9578.\n",
      "  warnings.warn(\n",
      "/Users/briantrippe/opt/anaconda3/lib/python3.9/site-packages/Bio/PDB/StructureBuilder.py:89: PDBConstructionWarning: WARNING: Chain C is discontinuous at line 9623.\n",
      "  warnings.warn(\n",
      "/Users/briantrippe/opt/anaconda3/lib/python3.9/site-packages/Bio/PDB/StructureBuilder.py:89: PDBConstructionWarning: WARNING: Chain D is discontinuous at line 9649.\n",
      "  warnings.warn(\n"
     ]
    },
    {
     "name": "stdout",
     "output_type": "stream",
     "text": [
      "7BNY,A83-97;A111-125,\n"
     ]
    },
    {
     "name": "stderr",
     "output_type": "stream",
     "text": [
      "/Users/briantrippe/opt/anaconda3/lib/python3.9/site-packages/Bio/PDB/StructureBuilder.py:89: PDBConstructionWarning: WARNING: Chain A is discontinuous at line 9477.\n",
      "  warnings.warn(\n",
      "/Users/briantrippe/opt/anaconda3/lib/python3.9/site-packages/Bio/PDB/StructureBuilder.py:89: PDBConstructionWarning: WARNING: Chain B is discontinuous at line 9492.\n",
      "  warnings.warn(\n",
      "/Users/briantrippe/opt/anaconda3/lib/python3.9/site-packages/Bio/PDB/StructureBuilder.py:89: PDBConstructionWarning: WARNING: Chain C is discontinuous at line 9507.\n",
      "  warnings.warn(\n",
      "/Users/briantrippe/opt/anaconda3/lib/python3.9/site-packages/Bio/PDB/StructureBuilder.py:89: PDBConstructionWarning: WARNING: Chain D is discontinuous at line 9512.\n",
      "  warnings.warn(\n",
      "/Users/briantrippe/opt/anaconda3/lib/python3.9/site-packages/Bio/PDB/StructureBuilder.py:89: PDBConstructionWarning: WARNING: Chain A is discontinuous at line 9522.\n",
      "  warnings.warn(\n",
      "/Users/briantrippe/opt/anaconda3/lib/python3.9/site-packages/Bio/PDB/StructureBuilder.py:89: PDBConstructionWarning: WARNING: Chain B is discontinuous at line 9578.\n",
      "  warnings.warn(\n",
      "/Users/briantrippe/opt/anaconda3/lib/python3.9/site-packages/Bio/PDB/StructureBuilder.py:89: PDBConstructionWarning: WARNING: Chain C is discontinuous at line 9623.\n",
      "  warnings.warn(\n",
      "/Users/briantrippe/opt/anaconda3/lib/python3.9/site-packages/Bio/PDB/StructureBuilder.py:89: PDBConstructionWarning: WARNING: Chain D is discontinuous at line 9649.\n",
      "  warnings.warn(\n"
     ]
    },
    {
     "name": "stdout",
     "output_type": "stream",
     "text": [
      "7CG5,A95-109,\n",
      "7DGW,A22-36;A70-84,\n",
      "7KUW,A2-16;A30-44,\n",
      "7KWW,B14-28,\n"
     ]
    },
    {
     "name": "stderr",
     "output_type": "stream",
     "text": [
      "/Users/briantrippe/opt/anaconda3/lib/python3.9/site-packages/Bio/PDB/StructureBuilder.py:89: PDBConstructionWarning: WARNING: Chain A is discontinuous at line 2410.\n",
      "  warnings.warn(\n",
      "/Users/briantrippe/opt/anaconda3/lib/python3.9/site-packages/Bio/PDB/StructureBuilder.py:89: PDBConstructionWarning: WARNING: Chain B is discontinuous at line 2506.\n",
      "  warnings.warn(\n"
     ]
    },
    {
     "name": "stdout",
     "output_type": "stream",
     "text": [
      "7MQQ,A115-129,\n",
      "7MQQ,A80-94;A115-129,\n",
      "7S5L,A27-41;A77-91,\n",
      "7WRK,A80-94,\n",
      "7WRK,A99-113;A132-146,\n",
      "6cpa,A69-72;A127;A196;A248;A270,A70-71\n",
      "1mpy,A153;A199;A214;A246;A255;A265,\n"
     ]
    },
    {
     "name": "stderr",
     "output_type": "stream",
     "text": [
      "/Users/briantrippe/opt/anaconda3/lib/python3.9/site-packages/Bio/PDB/StructureBuilder.py:89: PDBConstructionWarning: WARNING: Chain A is discontinuous at line 10615.\n",
      "  warnings.warn(\n",
      "/Users/briantrippe/opt/anaconda3/lib/python3.9/site-packages/Bio/PDB/StructureBuilder.py:89: PDBConstructionWarning: WARNING: Chain B is discontinuous at line 10620.\n",
      "  warnings.warn(\n",
      "/Users/briantrippe/opt/anaconda3/lib/python3.9/site-packages/Bio/PDB/StructureBuilder.py:89: PDBConstructionWarning: WARNING: Chain C is discontinuous at line 10625.\n",
      "  warnings.warn(\n",
      "/Users/briantrippe/opt/anaconda3/lib/python3.9/site-packages/Bio/PDB/StructureBuilder.py:89: PDBConstructionWarning: WARNING: Chain D is discontinuous at line 10630.\n",
      "  warnings.warn(\n",
      "/Users/briantrippe/opt/anaconda3/lib/python3.9/site-packages/Bio/PDB/StructureBuilder.py:89: PDBConstructionWarning: WARNING: Chain A is discontinuous at line 10635.\n",
      "  warnings.warn(\n",
      "/Users/briantrippe/opt/anaconda3/lib/python3.9/site-packages/Bio/PDB/StructureBuilder.py:89: PDBConstructionWarning: WARNING: Chain B is discontinuous at line 10667.\n",
      "  warnings.warn(\n",
      "/Users/briantrippe/opt/anaconda3/lib/python3.9/site-packages/Bio/PDB/StructureBuilder.py:89: PDBConstructionWarning: WARNING: Chain C is discontinuous at line 10691.\n",
      "  warnings.warn(\n",
      "/Users/briantrippe/opt/anaconda3/lib/python3.9/site-packages/Bio/PDB/StructureBuilder.py:89: PDBConstructionWarning: WARNING: Chain D is discontinuous at line 10714.\n",
      "  warnings.warn(\n"
     ]
    },
    {
     "name": "stdout",
     "output_type": "stream",
     "text": [
      "1b73,A7-8;A70;A178-180,A179\n",
      "2rkx,A9-11;A48-50;A101;A128;A169;A176;A201;A222-224,A10;A49;A223\n",
      "3b5v,A51-53;A81;A110;A131;A159;A180-184;A210-211;A231-233,A52;A181;A183;A232\n",
      "4xoj,A55;A99;A190-192,A191\n"
     ]
    },
    {
     "name": "stderr",
     "output_type": "stream",
     "text": [
      "/Users/briantrippe/opt/anaconda3/lib/python3.9/site-packages/Bio/PDB/StructureBuilder.py:89: PDBConstructionWarning: WARNING: Chain A is discontinuous at line 4413.\n",
      "  warnings.warn(\n",
      "/Users/briantrippe/opt/anaconda3/lib/python3.9/site-packages/Bio/PDB/StructureBuilder.py:89: PDBConstructionWarning: WARNING: Chain B is discontinuous at line 5285.\n",
      "  warnings.warn(\n"
     ]
    }
   ],
   "source": [
    "motif_specs_paths = [\n",
    "    \"../test_cases/rfdiffusion_benchmark/motif_specs.csv\",\n",
    "    \"../test_cases/orphans/motif_specs.csv\",\n",
    "    \"../test_cases/other_enzymes/motif_specs.csv\"\n",
    "]\n",
    "\n",
    "# Make sure the motif_pdb_dir and native_pdb_dir directories exist.\n",
    "motif_pdb_dir = \"../motif_pdbs/\"\n",
    "if not os.path.exists(motif_pdb_dir): os.makedirs(motif_pdb_dir)\n",
    "\n",
    "native_pdb_dir = \"../native_pdbs/\"\n",
    "if not os.path.exists(native_pdb_dir): os.makedirs(native_pdb_dir)\n",
    "\n",
    "# Parse the motif specs files and save the motif PDBs.\n",
    "for motif_specs_path in motif_specs_paths:\n",
    "    with open(motif_specs_path, \"r\") as f:\n",
    "        for line in f:\n",
    "            print(line.strip())\n",
    "            save_motif_pdb(line.strip(), motif_pdb_dir=motif_pdb_dir, native_pdb_dir=native_pdb_dir)"
   ]
  }
 ],
 "metadata": {
  "kernelspec": {
   "display_name": "base",
   "language": "python",
   "name": "python3"
  },
  "language_info": {
   "codemirror_mode": {
    "name": "ipython",
    "version": 3
   },
   "file_extension": ".py",
   "mimetype": "text/x-python",
   "name": "python",
   "nbconvert_exporter": "python",
   "pygments_lexer": "ipython3",
   "version": "3.9.7"
  }
 },
 "nbformat": 4,
 "nbformat_minor": 2
}
