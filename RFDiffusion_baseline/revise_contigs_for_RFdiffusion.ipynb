{
 "cells": [
  {
   "cell_type": "code",
   "execution_count": 1,
   "id": "3d7e00a9",
   "metadata": {},
   "outputs": [],
   "source": [
    "contig_csv_path = \"./motif_specs_with_contigs.csv\"\n",
    "new_contig_csv_path = \"./motif_specs_with_contigs_for_motif_files.csv\""
   ]
  },
  {
   "cell_type": "code",
   "execution_count": 2,
   "id": "e07b9df3",
   "metadata": {},
   "outputs": [
    {
     "name": "stdout",
     "output_type": "stream",
     "text": [
      "1BCF,A18-25;A47-54;A92-99;A123-130,A19-25;A47-50;A52-53;A92-93;A95-99;A123-126;A128-129,125,8-15;A92-99;16-30;A123-130;16-30;A47-54;16-30;A18-25;8-15\n"
     ]
    }
   ],
   "source": [
    "f = open(contig_csv_path)\n",
    "l = f.readline().strip()\n",
    "f.close()\n",
    "print(l)"
   ]
  },
  {
   "cell_type": "code",
   "execution_count": 3,
   "id": "e1fac63f",
   "metadata": {},
   "outputs": [],
   "source": [
    "chain_labels = ['A', 'B', 'C', 'D', 'E', 'F', 'G', 'H', 'I', 'J']\n",
    "def new_contig(rfdiffusion_contig):\n",
    "    scaffold_segments = {}\n",
    "    contig_segments = []\n",
    "    for i, seg in enumerate(rfdiffusion_contig.split(\";\")):\n",
    "        if seg[0].isnumeric():\n",
    "            scaffold_segments[i] = seg\n",
    "        else:\n",
    "            chain = seg[0]\n",
    "            residues = seg[1:]\n",
    "            if \"-\" in residues:\n",
    "                start = int(residues.split(\"-\")[0])\n",
    "                end = int(residues.split(\"-\")[1])\n",
    "                new_res_string = f\"1-{1+end-start}\"\n",
    "            else:\n",
    "                start = int(residues)\n",
    "                new_res_string = \"1-1\"\n",
    "            contig_segments.append({\"pos_in_contig\":i, \"res_start\":start, \"new_res_string\":new_res_string})\n",
    "\n",
    "    sorted_contigs = sorted(contig_segments, key=lambda x: x['res_start'])\n",
    "    for i, contig_segment in enumerate(sorted_contigs):\n",
    "        segment_str = chain_labels[i]+contig_segment['new_res_string']\n",
    "        scaffold_segments[contig_segment['pos_in_contig']] = segment_str\n",
    "\n",
    "    return \";\".join(scaffold_segments[i] for i in range(len(scaffold_segments)))"
   ]
  },
  {
   "cell_type": "code",
   "execution_count": 4,
   "id": "8b26efee",
   "metadata": {},
   "outputs": [],
   "source": [
    "f_out = open(new_contig_csv_path, 'w')\n",
    "with open(contig_csv_path) as f:\n",
    "    for l in f:\n",
    "        motif_name, redesignable_positions, contig, length, rfdiffusion_contig = l.split(\",\")\n",
    "        new_contig_str = new_contig(rfdiffusion_contig.strip())\n",
    "        new_l = \",\".join([motif_name, redesignable_positions, contig, length, new_contig_str])\n",
    "        f_out.write(new_l + \"\\n\")\n",
    "f_out.close()"
   ]
  },
  {
   "cell_type": "code",
   "execution_count": null,
   "id": "1ec52251",
   "metadata": {},
   "outputs": [],
   "source": []
  }
 ],
 "metadata": {
  "kernelspec": {
   "display_name": "Python 3 (ipykernel)",
   "language": "python",
   "name": "python3"
  },
  "language_info": {
   "codemirror_mode": {
    "name": "ipython",
    "version": 3
   },
   "file_extension": ".py",
   "mimetype": "text/x-python",
   "name": "python",
   "nbconvert_exporter": "python",
   "pygments_lexer": "ipython3",
   "version": "3.9.7"
  }
 },
 "nbformat": 4,
 "nbformat_minor": 5
}
